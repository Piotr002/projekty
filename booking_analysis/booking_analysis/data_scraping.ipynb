{
 "cells": [
  {
   "cell_type": "code",
   "execution_count": 1,
   "id": "initial_id",
   "metadata": {
    "ExecuteTime": {
     "end_time": "2024-01-02T17:44:05.455866200Z",
     "start_time": "2024-01-02T17:44:04.508460500Z"
    },
    "collapsed": true
   },
   "outputs": [
    {
     "name": "stderr",
     "output_type": "stream",
     "text": [
      "D:\\anaconda_nowa\\envs\\applied_mathematics\\lib\\site-packages\\numpy\\_distributor_init.py:30: UserWarning: loaded more than 1 DLL from .libs:\n",
      "D:\\anaconda_nowa\\envs\\applied_mathematics\\lib\\site-packages\\numpy\\.libs\\libopenblas64__v0.3.21-gcc_10_3_0.dll\n",
      "D:\\anaconda_nowa\\envs\\applied_mathematics\\lib\\site-packages\\numpy\\.libs\\libopenblas64__v0.3.23-246-g3d31191b-gcc_10_3_0.dll\n",
      "  warnings.warn(\"loaded more than 1 DLL from .libs:\"\n"
     ]
    }
   ],
   "source": [
    "from selenium import webdriver\n",
    "from selenium.webdriver.common.by import By\n",
    "from webdriver_manager.chrome import ChromeDriverManager\n",
    "from selenium.webdriver.chrome.service import Service as ChromeService\n",
    "\n",
    "import pandas as pd\n",
    "import time\n",
    "import re\n",
    "import datetime\n",
    "import numpy as np"
   ]
  },
  {
   "cell_type": "markdown",
   "id": "cd80c47bf0fdaf0e",
   "metadata": {
    "collapsed": false
   },
   "source": [
    "Analiza będzie przeprowadzona dla tych miast:"
   ]
  },
  {
   "cell_type": "code",
   "execution_count": 67,
   "id": "48e9c14ae6b976fa",
   "metadata": {
    "ExecuteTime": {
     "end_time": "2024-01-02T21:42:02.307692400Z",
     "start_time": "2024-01-02T21:42:02.286681Z"
    },
    "collapsed": false
   },
   "outputs": [],
   "source": [
    "poland_cities = [\"Białystok\", \"Bydgoszcz\", \"Gdańsk\", \"Gorzów Wielkopolski\", \"Katowice\", \"Kielce\", \"Kraków\", \"Lublin\",\n",
    "                 \"Łódź\", \"Olsztyn\", \"Opole\", \"Poznań\", \"Rzeszów\", \"Szczecin\", \"Toruń\", \"Warszawa\", \"Wrocław\",\n",
    "                 \"Zielona Góra\"]\n",
    "cities = [\"Stambuł\", \"Londyn\", \"Berlin\", \"Madryt\", \"Rzym\", \"Bukareszt\", \"Paryż\", \"Wiedeń\", \"Hamburg\", \"Budapeszt\", \"Belgrad\", \"Barcelona\", \"Monachium\", \"Mediolan\", \"Sofia\", \"Praga\", \"Birmingham\", \"Lizbona\"]\n",
    "all_cities = poland_cities + cities"
   ]
  },
  {
   "cell_type": "markdown",
   "id": "7dbb84f0c3657c38",
   "metadata": {
    "collapsed": false
   },
   "source": [
    "Będziemy sprawdzać dla:\n",
    "- 1 dorosłego,\n",
    "- 2 dorosłych,\n",
    "- 7 dorosłych\n",
    "\n",
    "I dla:\n",
    "- 1 dnia\n",
    "- 2 dni\n",
    "- 7 dni\n",
    "- 14 dni"
   ]
  },
  {
   "cell_type": "code",
   "execution_count": 74,
   "id": "c2aeec0af585572d",
   "metadata": {
    "ExecuteTime": {
     "end_time": "2024-01-02T21:44:43.746792500Z",
     "start_time": "2024-01-02T21:44:43.718233400Z"
    },
    "collapsed": false
   },
   "outputs": [],
   "source": [
    "days = (1, 2, 7, 14)\n",
    "persons = (2, 7) # 1 ad, 2 ad, 7 ad"
   ]
  },
  {
   "cell_type": "code",
   "execution_count": 75,
   "id": "1193e1878a6f77d5",
   "metadata": {
    "ExecuteTime": {
     "end_time": "2024-01-02T21:44:44.040087100Z",
     "start_time": "2024-01-02T21:44:44.010102800Z"
    },
    "collapsed": false
   },
   "outputs": [],
   "source": [
    "# dataframe = pd.DataFrame({\"City\":[], \"hotel_name\":[], \"people_number\":[], \"days number\":[], \"Price\":[], \"amenities\":[], \"guest_opinions\":[], \"average_opinion\":[]})"
   ]
  },
  {
   "cell_type": "code",
   "execution_count": 76,
   "id": "97717ab6856e2540",
   "metadata": {
    "ExecuteTime": {
     "end_time": "2024-01-03T08:58:11.719396500Z",
     "start_time": "2024-01-02T21:44:44.477300100Z"
    },
    "collapsed": false
   },
   "outputs": [],
   "source": [
    "for i in days:\n",
    "    for j in persons:\n",
    "        for k in all_cities:\n",
    "            webOptions = webdriver.ChromeOptions()\n",
    "            # webOptions.add_argument(\"--headless\")\n",
    "            webOptions.add_argument(\"--window-size=1920,1080\")\n",
    "            webOptions.add_argument(\"–disable-gpu\")\n",
    "            driver = webdriver.Chrome(service=ChromeService(executable_path=ChromeDriverManager().install()), options=webOptions)\n",
    "            driver.maximize_window()\n",
    "            driver.get(\"https://www.booking.com/\")\n",
    "            # driver.minimize_window()\n",
    "            time.sleep(2)\n",
    "            accept = driver.find_element(By.XPATH, \"//button[@id='onetrust-accept-btn-handler']\")\n",
    "            accept.click()\n",
    "            city = driver.find_element(By.XPATH, \"//input[@class='eb46370fe1']\")\n",
    "            city.send_keys(k)\n",
    "            time.sleep(2)\n",
    "            date = driver.find_element(By.XPATH, \"//button[@data-testid='date-display-field-start']\")\n",
    "            date.click()\n",
    "            time.sleep(2)\n",
    "            data_dzisiejsza = driver.find_element(By.XPATH, f\"//span[@data-date='{datetime.date.today().strftime('%Y-%m-%d')}']\")\n",
    "            data_dzisiejsza.click()\n",
    "            data_jutrzejsza = driver.find_element(By.XPATH, f\"//span[@data-date='{(datetime.date.today() + datetime.timedelta(i)).strftime('%Y-%m-%d')}']\")\n",
    "            data_jutrzejsza.click()\n",
    "            time.sleep(1)\n",
    "            if j != 2:\n",
    "                persons = driver.find_element(By.XPATH, \"//button[@class='a83ed08757 ebbedaf8ac ada2387af8']\")\n",
    "                persons.click()\n",
    "                time.sleep(1)\n",
    "                if j == 1:\n",
    "                    one = driver.find_element(By.XPATH, \"//button[@class='a83ed08757 c21c56c305 f38b6daa18 d691166b09 ab98298258 deab83296e bb803d8689 e91c91fa93']\")\n",
    "                    one.click()\n",
    "                elif j == 7:\n",
    "                    seven = driver.find_element(By.XPATH, \"//button[@class='a83ed08757 c21c56c305 f38b6daa18 d691166b09 ab98298258 deab83296e bb803d8689 f4d78af12a']\")\n",
    "                    for _ in range(5):\n",
    "                        seven.click()\n",
    "            search = driver.find_element(By.XPATH, \"//button[@class='a83ed08757 c21c56c305 a4c1805887 f671049264 d2529514af c082d89982 cceeb8986b']\")\n",
    "            search.click()\n",
    "            time.sleep(5)\n",
    "            try:\n",
    "                cancel = driver.find_element(By.XPATH, \"//button[@class='a83ed08757 c21c56c305 f38b6daa18 d691166b09 ab98298258 deab83296e f4552b6561' and @aria-label='Zamknij okno logowania.']\")\n",
    "                cancel.click()\n",
    "            except:\n",
    "                pass\n",
    "            elements = list(driver.find_elements(By.XPATH, \"//div[@class='f6431b446c a15b38c233']\"))\n",
    "            opinions = [x.text for x in driver.find_elements(By.XPATH, \"//div[@class='a3b8729ab1 d86cee9b25']\")]\n",
    "            prices = [x.text for x in driver.find_elements(By.XPATH, \"//span[@class='f6431b446c fbfd7c1165 e84eb96b1f']\")]\n",
    "            if len(elements) != len(opinions):\n",
    "                booking_news = driver.find_elements(By.XPATH, \"//div[@class='c82435a4b8 a178069f51 a6ae3c2b40 a18aeea94d d794b7a0f7 f53e278e95 c6710787a4' or @class='c82435a4b8 a178069f51 a6ae3c2b40 a18aeea94d d794b7a0f7 f53e278e95 c6710787a4 bb369fb627']\")\n",
    "                wrong_data = np.array([\"Nowość na Booking.com\" in booking_news[c].text and \"opinii\" not in booking_news[c].text for c in range(len(booking_news))])\n",
    "            w = 0\n",
    "            for l in range(len(elements)):\n",
    "                if len(elements) != len(opinions):\n",
    "                    if wrong_data[l] == True:\n",
    "                        w += 1\n",
    "                        continue\n",
    "                try:\n",
    "                    elements[l].click()\n",
    "                    hotel_name = elements[l].text\n",
    "                    time.sleep(10)\n",
    "                    driver.switch_to.window(driver.window_handles[1])\n",
    "                    udogodnienia = driver.find_element(By.XPATH, \"//section[@class='propertySectionFixedSpacing e1a6df845d' and @id='hp_facilities_box']\")\n",
    "                    opinie_gosci = driver.find_element(By.XPATH, \"//div[@data-testid='PropertyReviewsRegionBlock']\")\n",
    "                    dataframe.loc[len(dataframe)] = [k, hotel_name, j, i, prices[l], udogodnienia.text, opinie_gosci.text, opinions[l-w]]\n",
    "                    driver.close()\n",
    "                    driver.switch_to.window(driver.window_handles[0])\n",
    "                except:\n",
    "                    pass\n",
    "            driver.quit()"
   ]
  },
  {
   "cell_type": "code",
   "execution_count": 151,
   "id": "d428a85658775b25",
   "metadata": {
    "ExecuteTime": {
     "end_time": "2024-01-02T16:37:12.265897400Z",
     "start_time": "2024-01-02T16:37:01.913962700Z"
    },
    "collapsed": false
   },
   "outputs": [],
   "source": [
    "webOptions = webdriver.ChromeOptions()\n",
    "# webOptions.add_argument(\"--headless\")\n",
    "webOptions.add_argument(\"--window-size=1920,1080\")\n",
    "webOptions.add_argument(\"–disable-gpu\")\n",
    "driver = webdriver.Chrome(service=ChromeService(executable_path=ChromeDriverManager().install()), options=webOptions)\n",
    "driver.maximize_window()\n",
    "driver.get(\"https://www.booking.com/\")\n",
    "# driver.minimize_window()\n",
    "time.sleep(2)"
   ]
  },
  {
   "cell_type": "code",
   "execution_count": 152,
   "id": "bf12bd33a50c7cc",
   "metadata": {
    "ExecuteTime": {
     "end_time": "2024-01-02T16:37:20.533276100Z",
     "start_time": "2024-01-02T16:37:12.273875300Z"
    },
    "collapsed": false
   },
   "outputs": [],
   "source": [
    "accept = driver.find_element(By.XPATH, \"//button[@id='onetrust-accept-btn-handler']\")\n",
    "accept.click()\n",
    "city = driver.find_element(By.XPATH, \"//input[@class='eb46370fe1']\")\n",
    "city.send_keys(\"Gorzów Wielkopolski\")\n",
    "time.sleep(2)\n",
    "date = driver.find_element(By.XPATH, \"//button[@data-testid='date-display-field-start']\")\n",
    "date.click()\n",
    "time.sleep(2)\n",
    "data_dzisiejsza = driver.find_element(By.XPATH, f\"//span[@data-date='{datetime.date.today().strftime('%Y-%m-%d')}']\")\n",
    "data_dzisiejsza.click()\n",
    "data_jutrzejsza = driver.find_element(By.XPATH, f\"//span[@data-date='{(datetime.date.today() + datetime.timedelta(1)).strftime('%Y-%m-%d')}']\")\n",
    "data_jutrzejsza.click()\n",
    "time.sleep(1)\n",
    "search = driver.find_element(By.XPATH, \"//button[@class='a83ed08757 c21c56c305 a4c1805887 f671049264 d2529514af c082d89982 cceeb8986b']\")\n",
    "search.click()"
   ]
  },
  {
   "cell_type": "code",
   "execution_count": 153,
   "id": "88459535c40f93f9",
   "metadata": {
    "ExecuteTime": {
     "end_time": "2024-01-02T16:37:27.769723900Z",
     "start_time": "2024-01-02T16:37:24.649639600Z"
    },
    "collapsed": false
   },
   "outputs": [],
   "source": [
    "time.sleep(3)\n",
    "cancel = driver.find_element(By.XPATH, \"//button[@class='a83ed08757 c21c56c305 f38b6daa18 d691166b09 ab98298258 deab83296e f4552b6561' and @aria-label='Zamknij okno logowania.']\")\n",
    "cancel.click()"
   ]
  },
  {
   "cell_type": "code",
   "execution_count": 154,
   "id": "584061b2b2528a6c",
   "metadata": {
    "ExecuteTime": {
     "end_time": "2024-01-02T16:37:42.960200900Z",
     "start_time": "2024-01-02T16:37:42.915945100Z"
    },
    "collapsed": false
   },
   "outputs": [],
   "source": [
    "elements = driver.find_elements(By.XPATH, \"//div[@class='f6431b446c a15b38c233']\")"
   ]
  },
  {
   "cell_type": "code",
   "execution_count": 156,
   "id": "15176714ba8ae5cc",
   "metadata": {
    "ExecuteTime": {
     "end_time": "2024-01-02T16:38:09.207125900Z",
     "start_time": "2024-01-02T16:38:08.723414100Z"
    },
    "collapsed": false
   },
   "outputs": [],
   "source": [
    "opinions = [x.text for x in driver.find_elements(By.XPATH, \"//div[@class='a3b8729ab1 d86cee9b25']\")]\n",
    "prices = [x.text for x in driver.find_elements(By.XPATH, \"//span[@class='f6431b446c fbfd7c1165 e84eb96b1f']\")]"
   ]
  },
  {
   "cell_type": "code",
   "execution_count": 177,
   "id": "bff40113e53d29c6",
   "metadata": {
    "ExecuteTime": {
     "end_time": "2024-01-02T16:49:41.509799500Z",
     "start_time": "2024-01-02T16:49:41.452438100Z"
    },
    "collapsed": false
   },
   "outputs": [],
   "source": [
    "a = driver.find_elements(By.XPATH, \"//div[@class='c82435a4b8 a178069f51 a6ae3c2b40 a18aeea94d d794b7a0f7 f53e278e95 c6710787a4']\")"
   ]
  },
  {
   "cell_type": "code",
   "execution_count": 178,
   "id": "530b1eb6a4f389c3",
   "metadata": {
    "ExecuteTime": {
     "end_time": "2024-01-02T16:50:11.139339Z",
     "start_time": "2024-01-02T16:50:09.998146900Z"
    },
    "collapsed": false
   },
   "outputs": [],
   "source": [
    "b = np.array([\"Nowość na Booking.com\" in a[i].text and \"opinii\" not in a[i].text for i in range(len(a))])"
   ]
  },
  {
   "cell_type": "code",
   "execution_count": 179,
   "id": "e77564f2c52f26d3",
   "metadata": {
    "ExecuteTime": {
     "end_time": "2024-01-02T16:50:12.170850900Z",
     "start_time": "2024-01-02T16:50:12.147045100Z"
    },
    "collapsed": false
   },
   "outputs": [
    {
     "data": {
      "text/plain": [
       "[9]"
      ]
     },
     "execution_count": 179,
     "metadata": {},
     "output_type": "execute_result"
    }
   ],
   "source": [
    "list(np.where(b == True)[0])"
   ]
  },
  {
   "cell_type": "code",
   "execution_count": 83,
   "id": "f93c7025222c3d7d",
   "metadata": {
    "ExecuteTime": {
     "end_time": "2023-12-30T20:04:33.942343200Z",
     "start_time": "2023-12-30T20:04:31.662326700Z"
    },
    "collapsed": false
   },
   "outputs": [],
   "source": [
    "elements[1].click()\n",
    "time.sleep(2)\n",
    "driver.switch_to.window(driver.window_handles[1])"
   ]
  },
  {
   "cell_type": "code",
   "execution_count": 84,
   "id": "bc706f6f7105cad4",
   "metadata": {
    "ExecuteTime": {
     "end_time": "2023-12-30T20:04:41.914353300Z",
     "start_time": "2023-12-30T20:04:41.863548700Z"
    },
    "collapsed": false
   },
   "outputs": [],
   "source": [
    "udogodnienia = driver.find_element(By.XPATH, \"//section[@class='propertySectionFixedSpacing e1a6df845d' and @id='hp_facilities_box']\")"
   ]
  },
  {
   "cell_type": "code",
   "execution_count": 85,
   "id": "37a679c0ed53e52f",
   "metadata": {
    "ExecuteTime": {
     "end_time": "2023-12-30T20:04:43.219845300Z",
     "start_time": "2023-12-30T20:04:43.084485400Z"
    },
    "collapsed": false
   },
   "outputs": [
    {
     "data": {
      "text/plain": [
       "'Udogodnienia w obiekcie MirrorRoom PL Downtown\\nZobacz dostępność\\nNajpopularniejsze udogodnienia\\npokoje dla niepalących\\nSzybkie bezpłatne Wi-Fi (555 Mb/s)\\nogród\\nŁazienka\\npapier toaletowy\\nbezpłatny zestaw kosmetyków\\nwspólna łazienka\\nSypialnia\\npościel\\nszafa lub garderoba\\nWidok\\nwidok na miasto\\nwidok\\nOkolica\\nogród\\nKuchnia\\nwspólna kuchnia\\nstół\\nśrodki czystości\\npłyta kuchenna\\npiekarnik\\nprzybory kuchenne\\nczajnik elektryczny\\nkuchenka mikrofalowa\\nlodówka\\nSalon\\nbiurko\\nInternet\\nSzybkie bezpłatne Wi-Fi 555 Mb/s. Odpowiednie do streamingu treści w jakości 4K i prowadzenia wideorozmów na wielu urządzeniach. Test prędkości wykonany przez gospodarza.\\nParking\\nParking nie jest dostępny.\\nUsługi\\nekspresowe zameldowanie / wymeldowanie\\nBezpieczeństwo\\nmonitoring w pomieszczeniach ogólnodostępnych\\nOgólne\\ncałkowity zakaz palenia\\nogrzewanie\\npokoje dla niepalących\\nJęzyki\\nangielski'"
      ]
     },
     "execution_count": 85,
     "metadata": {},
     "output_type": "execute_result"
    }
   ],
   "source": [
    "udogodnienia.text"
   ]
  },
  {
   "cell_type": "code",
   "execution_count": 86,
   "id": "7a12393187da0d75",
   "metadata": {
    "ExecuteTime": {
     "end_time": "2023-12-30T20:06:40.984942Z",
     "start_time": "2023-12-30T20:06:40.947294100Z"
    },
    "collapsed": false
   },
   "outputs": [],
   "source": [
    "opinie_gosci = driver.find_element(By.XPATH, \"//div[@data-testid='PropertyReviewsRegionBlock']\")"
   ]
  },
  {
   "cell_type": "code",
   "execution_count": 87,
   "id": "78e5efe0fd50d78c",
   "metadata": {
    "ExecuteTime": {
     "end_time": "2023-12-30T20:06:45.498009100Z",
     "start_time": "2023-12-30T20:06:45.417593100Z"
    },
    "collapsed": false
   },
   "outputs": [
    {
     "data": {
      "text/plain": [
       "'Opinie Gości\\nZobacz dostępność\\n6,3\\nPrzyjemny · 578 opinii\\nPrzeczytaj wszystkie opinie\\nKategorie:\\nPersonel\\n7,0\\nUdogodnienia\\n6,4\\nCzystość\\n6,5\\nKomfort\\n6,6\\nStosunek jakości do ceny\\n6,8\\nLokalizacja\\n8,1\\nBezpłatne WiFi\\n8,2\\nNiska ocena Warszawa\\nWybierz tematy, aby przeczytać opinie:\\nPokój\\nLokalizacja\\nCzystość\\nŁóżko\\nRęcznik\\nPrzeczytaj wszystkie opinie'"
      ]
     },
     "execution_count": 87,
     "metadata": {},
     "output_type": "execute_result"
    }
   ],
   "source": [
    "opinie_gosci.text"
   ]
  },
  {
   "cell_type": "code",
   "execution_count": 80,
   "id": "7574ed4827d6144c",
   "metadata": {
    "ExecuteTime": {
     "end_time": "2023-12-30T20:03:47.204298400Z",
     "start_time": "2023-12-30T20:03:47.123554100Z"
    },
    "collapsed": false
   },
   "outputs": [],
   "source": [
    "driver.close()"
   ]
  },
  {
   "cell_type": "code",
   "execution_count": 59,
   "id": "2509b58fca359403",
   "metadata": {
    "ExecuteTime": {
     "end_time": "2023-12-30T19:47:31.532134800Z",
     "start_time": "2023-12-30T19:47:29.306547300Z"
    },
    "collapsed": false
   },
   "outputs": [],
   "source": [
    "driver.quit()"
   ]
  },
  {
   "cell_type": "code",
   "execution_count": 82,
   "id": "6f39eae0ea72f13e",
   "metadata": {
    "ExecuteTime": {
     "end_time": "2023-12-29T20:03:56.808438300Z",
     "start_time": "2023-12-29T20:03:56.780449200Z"
    },
    "collapsed": false
   },
   "outputs": [],
   "source": []
  },
  {
   "cell_type": "code",
   "execution_count": 89,
   "id": "5223157406fc9b2f",
   "metadata": {
    "ExecuteTime": {
     "end_time": "2024-01-03T09:02:34.861496400Z",
     "start_time": "2024-01-03T09:02:34.857513600Z"
    },
    "collapsed": false
   },
   "outputs": [],
   "source": []
  },
  {
   "cell_type": "code",
   "execution_count": 89,
   "id": "cee1832e16310753",
   "metadata": {
    "ExecuteTime": {
     "end_time": "2024-01-03T09:02:35.025268800Z",
     "start_time": "2024-01-03T09:02:34.987282500Z"
    },
    "collapsed": false
   },
   "outputs": [],
   "source": []
  },
  {
   "cell_type": "code",
   "execution_count": 89,
   "id": "f15406ff6c9477e2",
   "metadata": {
    "ExecuteTime": {
     "end_time": "2024-01-03T09:02:35.158069800Z",
     "start_time": "2024-01-03T09:02:35.122901100Z"
    },
    "collapsed": false
   },
   "outputs": [],
   "source": []
  },
  {
   "cell_type": "code",
   "execution_count": 89,
   "id": "f6d794a0c6bac641",
   "metadata": {
    "ExecuteTime": {
     "end_time": "2024-01-03T09:02:35.388420100Z",
     "start_time": "2024-01-03T09:02:35.351465300Z"
    },
    "collapsed": false
   },
   "outputs": [],
   "source": []
  },
  {
   "cell_type": "code",
   "execution_count": 89,
   "id": "cc69053a9ada63bd",
   "metadata": {
    "ExecuteTime": {
     "end_time": "2024-01-03T09:02:35.510398300Z",
     "start_time": "2024-01-03T09:02:35.477434300Z"
    },
    "collapsed": false
   },
   "outputs": [],
   "source": []
  },
  {
   "cell_type": "code",
   "execution_count": 89,
   "id": "65694dd09d898516",
   "metadata": {
    "ExecuteTime": {
     "end_time": "2024-01-03T09:02:35.648714500Z",
     "start_time": "2024-01-03T09:02:35.594032900Z"
    },
    "collapsed": false
   },
   "outputs": [],
   "source": []
  },
  {
   "cell_type": "code",
   "execution_count": null,
   "id": "ba6ee0b3095bde30",
   "metadata": {
    "collapsed": false
   },
   "outputs": [],
   "source": []
  }
 ],
 "metadata": {
  "kernelspec": {
   "display_name": "Python 3",
   "language": "python",
   "name": "python3"
  },
  "language_info": {
   "codemirror_mode": {
    "name": "ipython",
    "version": 2
   },
   "file_extension": ".py",
   "mimetype": "text/x-python",
   "name": "python",
   "nbconvert_exporter": "python",
   "pygments_lexer": "ipython2",
   "version": "2.7.6"
  }
 },
 "nbformat": 4,
 "nbformat_minor": 5
}
