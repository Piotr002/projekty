{
 "cells": [
  {
   "cell_type": "code",
   "execution_count": 109,
   "metadata": {},
   "outputs": [],
   "source": [
    "import time\n",
    "import pandas as pd\n",
    "from selenium import webdriver\n",
    "from selenium.webdriver.chrome.service import Service\n",
    "from selenium.webdriver.common.keys import Keys\n",
    "from selenium.webdriver.common.by import By\n",
    "from webdriver_manager.chrome import ChromeDriverManager\n",
    "import datetime\n"
   ]
  },
  {
   "cell_type": "code",
   "execution_count": 110,
   "metadata": {},
   "outputs": [],
   "source": [
    "dataframe = pd.DataFrame(columns=[\"czas\", \"Wroclaw - Bialy Dunajec\", \"Wroclaw - Krakow\", \"Krakow - Bialy Dunajec\"])"
   ]
  },
  {
   "cell_type": "code",
   "execution_count": 111,
   "metadata": {},
   "outputs": [
    {
     "name": "stderr",
     "output_type": "stream",
     "text": [
      "C:\\Users\\piter\\AppData\\Local\\Temp\\ipykernel_15704\\3421768523.py:2: DeprecationWarning: headless property is deprecated, instead use add_argument('--headless') or add_argument('--headless=new')\n",
      "  options.headless = False\n"
     ]
    }
   ],
   "source": [
    "options = webdriver.ChromeOptions()\n",
    "options.headless = False\n",
    "options.add_argument(\"--window-size=1920,1080\")\n",
    "options.add_argument(\"–disable-gpu\")\n",
    "driver = webdriver.Chrome(service=Service(ChromeDriverManager().install()), options=options)\n",
    "driver.maximize_window()\n",
    "driver.get(\"https://www.google.com/maps/dir///@52.4010064,16.920086,17z/data=!4m2!4m1!3e0?hl=pl-PL&entry=ttu\")"
   ]
  },
  {
   "cell_type": "code",
   "execution_count": 112,
   "metadata": {},
   "outputs": [],
   "source": [
    "zaakceptuj = driver.find_element(By.XPATH, \"//span[text()='Zaakceptuj wszystko']\")\n",
    "zaakceptuj.click()"
   ]
  },
  {
   "cell_type": "code",
   "execution_count": 113,
   "metadata": {},
   "outputs": [],
   "source": [
    "    samochodem = driver.find_element(By.XPATH, \"//img[@data-tooltip='Samochodem']\")\n",
    "    samochodem.click()\n",
    "\n",
    "    wroclaw = driver.find_element(By.XPATH, \"//input[@tooltip='Wybierz punkt początkowy lub kliknij mapę...']\")\n",
    "    bialy = driver.find_element(By.XPATH, \"//input[@tooltip='Wybierz punkt docelowy...']\")\n",
    "\n",
    "    wroclaw.send_keys(\"Wrocław\")\n",
    "    bialy.send_keys(\"Biały Dunajec\")\n",
    "\n",
    "    bialy.send_keys(Keys.ENTER)\n",
    "    time.sleep(3)"
   ]
  },
  {
   "cell_type": "code",
   "execution_count": 114,
   "metadata": {},
   "outputs": [
    {
     "data": {
      "text/plain": [
       "'4 h 20 min'"
      ]
     },
     "execution_count": 114,
     "metadata": {},
     "output_type": "execute_result"
    }
   ],
   "source": [
    "czas = driver.find_element(By.XPATH, \"//div[@jstcache='82' and @class='cGRe9e']\")\n",
    "czas.text"
   ]
  },
  {
   "cell_type": "code",
   "execution_count": 115,
   "metadata": {},
   "outputs": [],
   "source": [
    "temp = czas.text.replace(\" h \", \" \").replace(\" min\", \"\").split(\" \")\n",
    "wro_bia = 60 * int(temp[0]) + int(temp[1])"
   ]
  },
  {
   "cell_type": "code",
   "execution_count": 116,
   "metadata": {},
   "outputs": [],
   "source": [
    "driver.get(\"https://www.google.com/maps/dir///@52.4010064,16.920086,17z/data=!4m2!4m1!3e0?hl=pl-PL&entry=ttu\")\n",
    "\n",
    "samochodem = driver.find_element(By.XPATH, \"//img[@data-tooltip='Samochodem']\")\n",
    "samochodem.click()\n",
    "\n",
    "wroclaw = driver.find_element(By.XPATH, \"//input[@tooltip='Wybierz punkt początkowy lub kliknij mapę...']\")\n",
    "krakow = driver.find_element(By.XPATH, \"//input[@tooltip='Wybierz punkt docelowy...']\")\n",
    "\n",
    "wroclaw.send_keys(\"Wrocław\")\n",
    "krakow.send_keys(\"Balice, 32-083\")\n",
    "\n",
    "krakow.send_keys(Keys.ENTER)\n",
    "time.sleep(3)\n",
    "\n",
    "czas = driver.find_element(By.XPATH, \"//div[@jstcache='82' and @class='cGRe9e']\")\n",
    "czas.text\n",
    "\n",
    "temp = czas.text.replace(\" h \", \" \").replace(\" min\", \"\").split(\" \")\n",
    "wro_kra = 60 * int(temp[0]) + int(temp[1])"
   ]
  },
  {
   "cell_type": "code",
   "execution_count": 117,
   "metadata": {},
   "outputs": [],
   "source": [
    "driver.get(\"https://www.google.com/maps/dir///@52.4010064,16.920086,17z/data=!4m2!4m1!3e0?hl=pl-PL&entry=ttu\")\n",
    "\n",
    "samochodem = driver.find_element(By.XPATH, \"//img[@data-tooltip='Samochodem']\")\n",
    "samochodem.click()\n",
    "\n",
    "krakow = driver.find_element(By.XPATH, \"//input[@tooltip='Wybierz punkt początkowy lub kliknij mapę...']\")\n",
    "bialy = driver.find_element(By.XPATH, \"//input[@tooltip='Wybierz punkt docelowy...']\")\n",
    "\n",
    "krakow.send_keys(\"Balice, 32-083\")\n",
    "bialy.send_keys(\"Biały Dunajec\")\n",
    "\n",
    "bialy.send_keys(Keys.ENTER)\n",
    "time.sleep(3)\n",
    "\n",
    "czas = driver.find_element(By.XPATH, \"//div[@jstcache='82' and @class='cGRe9e']\")\n",
    "czas.text\n",
    "\n",
    "temp = czas.text.replace(\" h \", \" \").replace(\" min\", \"\").split(\" \")\n",
    "kra_bia = 60 * int(temp[0]) + int(temp[1])"
   ]
  },
  {
   "cell_type": "code",
   "execution_count": 118,
   "metadata": {},
   "outputs": [],
   "source": [
    "day = datetime.datetime.now().day if len(str(datetime.datetime.now().day)) == 2 else f\"0{datetime.datetime.now().day}\"\n",
    "month = datetime.datetime.now().month if len(str(datetime.datetime.now().month)) == 2 else f\"0{datetime.datetime.now().month}\"\n",
    "minute = datetime.datetime.now().minute if len(str(datetime.datetime.now().minute)) == 2 else f\"0{datetime.datetime.now().minute}\"\n",
    "new_row = {\"czas\":f\"{day}.{month}, {datetime.datetime.now().hour}:{minute}\",\n",
    "    \"Wroclaw - Bialy Dunajec\":wro_bia,\n",
    "    \"Wroclaw - Krakow\": wro_kra,\n",
    "    \"Krakow - Bialy Dunajec\": kra_bia}\n",
    "dataframe.loc[len(dataframe)] = new_row"
   ]
  },
  {
   "cell_type": "code",
   "execution_count": 119,
   "metadata": {},
   "outputs": [
    {
     "data": {
      "text/html": [
       "<div>\n",
       "<style scoped>\n",
       "    .dataframe tbody tr th:only-of-type {\n",
       "        vertical-align: middle;\n",
       "    }\n",
       "\n",
       "    .dataframe tbody tr th {\n",
       "        vertical-align: top;\n",
       "    }\n",
       "\n",
       "    .dataframe thead th {\n",
       "        text-align: right;\n",
       "    }\n",
       "</style>\n",
       "<table border=\"1\" class=\"dataframe\">\n",
       "  <thead>\n",
       "    <tr style=\"text-align: right;\">\n",
       "      <th></th>\n",
       "      <th>czas</th>\n",
       "      <th>Wroclaw - Bialy Dunajec</th>\n",
       "      <th>Wroclaw - Krakow</th>\n",
       "      <th>Krakow - Bialy Dunajec</th>\n",
       "    </tr>\n",
       "  </thead>\n",
       "  <tbody>\n",
       "    <tr>\n",
       "      <th>0</th>\n",
       "      <td>16.08, 9:42</td>\n",
       "      <td>260</td>\n",
       "      <td>173</td>\n",
       "      <td>90</td>\n",
       "    </tr>\n",
       "  </tbody>\n",
       "</table>\n",
       "</div>"
      ],
      "text/plain": [
       "          czas  Wroclaw - Bialy Dunajec  Wroclaw - Krakow  \\\n",
       "0  16.08, 9:42                      260               173   \n",
       "\n",
       "   Krakow - Bialy Dunajec  \n",
       "0                      90  "
      ]
     },
     "execution_count": 119,
     "metadata": {},
     "output_type": "execute_result"
    }
   ],
   "source": [
    "dataframe"
   ]
  },
  {
   "cell_type": "code",
   "execution_count": 120,
   "metadata": {},
   "outputs": [],
   "source": [
    "driver.close()\n",
    "driver.quit()"
   ]
  },
  {
   "cell_type": "code",
   "execution_count": 121,
   "metadata": {},
   "outputs": [
    {
     "data": {
      "text/plain": [
       "42"
      ]
     },
     "execution_count": 121,
     "metadata": {},
     "output_type": "execute_result"
    }
   ],
   "source": [
    "datetime.datetime.now().month\n",
    "datetime.datetime.now().day\n",
    "datetime.datetime.now().hour\n",
    "datetime.datetime.now().minute"
   ]
  },
  {
   "cell_type": "code",
   "execution_count": 124,
   "metadata": {},
   "outputs": [],
   "source": [
    "dataframe.to_csv(\"czas.csv\", index=False)"
   ]
  },
  {
   "cell_type": "code",
   "execution_count": 130,
   "metadata": {},
   "outputs": [
    {
     "data": {
      "text/html": [
       "<div>\n",
       "<style scoped>\n",
       "    .dataframe tbody tr th:only-of-type {\n",
       "        vertical-align: middle;\n",
       "    }\n",
       "\n",
       "    .dataframe tbody tr th {\n",
       "        vertical-align: top;\n",
       "    }\n",
       "\n",
       "    .dataframe thead th {\n",
       "        text-align: right;\n",
       "    }\n",
       "</style>\n",
       "<table border=\"1\" class=\"dataframe\">\n",
       "  <thead>\n",
       "    <tr style=\"text-align: right;\">\n",
       "      <th></th>\n",
       "      <th>czas</th>\n",
       "      <th>Wroclaw - Bialy Dunajec</th>\n",
       "      <th>Wroclaw - Krakow</th>\n",
       "      <th>Krakow - Bialy Dunajec</th>\n",
       "    </tr>\n",
       "  </thead>\n",
       "  <tbody>\n",
       "    <tr>\n",
       "      <th>0</th>\n",
       "      <td>16.08, 11:20</td>\n",
       "      <td>262</td>\n",
       "      <td>174</td>\n",
       "      <td>102</td>\n",
       "    </tr>\n",
       "    <tr>\n",
       "      <th>1</th>\n",
       "      <td>16.08, 11:21</td>\n",
       "      <td>263</td>\n",
       "      <td>175</td>\n",
       "      <td>99</td>\n",
       "    </tr>\n",
       "    <tr>\n",
       "      <th>2</th>\n",
       "      <td>16.08, 11:23</td>\n",
       "      <td>262</td>\n",
       "      <td>174</td>\n",
       "      <td>103</td>\n",
       "    </tr>\n",
       "    <tr>\n",
       "      <th>3</th>\n",
       "      <td>16.08, 11:24</td>\n",
       "      <td>262</td>\n",
       "      <td>174</td>\n",
       "      <td>101</td>\n",
       "    </tr>\n",
       "    <tr>\n",
       "      <th>4</th>\n",
       "      <td>16.08, 11:26</td>\n",
       "      <td>263</td>\n",
       "      <td>175</td>\n",
       "      <td>98</td>\n",
       "    </tr>\n",
       "    <tr>\n",
       "      <th>...</th>\n",
       "      <td>...</td>\n",
       "      <td>...</td>\n",
       "      <td>...</td>\n",
       "      <td>...</td>\n",
       "    </tr>\n",
       "    <tr>\n",
       "      <th>62</th>\n",
       "      <td>16.08, 12:52</td>\n",
       "      <td>271</td>\n",
       "      <td>181</td>\n",
       "      <td>104</td>\n",
       "    </tr>\n",
       "    <tr>\n",
       "      <th>63</th>\n",
       "      <td>16.08, 12:53</td>\n",
       "      <td>273</td>\n",
       "      <td>181</td>\n",
       "      <td>105</td>\n",
       "    </tr>\n",
       "    <tr>\n",
       "      <th>64</th>\n",
       "      <td>16.08, 12:55</td>\n",
       "      <td>273</td>\n",
       "      <td>182</td>\n",
       "      <td>103</td>\n",
       "    </tr>\n",
       "    <tr>\n",
       "      <th>65</th>\n",
       "      <td>16.08, 12:57</td>\n",
       "      <td>273</td>\n",
       "      <td>181</td>\n",
       "      <td>104</td>\n",
       "    </tr>\n",
       "    <tr>\n",
       "      <th>66</th>\n",
       "      <td>16.08, 12:59</td>\n",
       "      <td>271</td>\n",
       "      <td>181</td>\n",
       "      <td>107</td>\n",
       "    </tr>\n",
       "  </tbody>\n",
       "</table>\n",
       "<p>67 rows × 4 columns</p>\n",
       "</div>"
      ],
      "text/plain": [
       "            czas  Wroclaw - Bialy Dunajec  Wroclaw - Krakow  \\\n",
       "0   16.08, 11:20                      262               174   \n",
       "1   16.08, 11:21                      263               175   \n",
       "2   16.08, 11:23                      262               174   \n",
       "3   16.08, 11:24                      262               174   \n",
       "4   16.08, 11:26                      263               175   \n",
       "..           ...                      ...               ...   \n",
       "62  16.08, 12:52                      271               181   \n",
       "63  16.08, 12:53                      273               181   \n",
       "64  16.08, 12:55                      273               182   \n",
       "65  16.08, 12:57                      273               181   \n",
       "66  16.08, 12:59                      271               181   \n",
       "\n",
       "    Krakow - Bialy Dunajec  \n",
       "0                      102  \n",
       "1                       99  \n",
       "2                      103  \n",
       "3                      101  \n",
       "4                       98  \n",
       "..                     ...  \n",
       "62                     104  \n",
       "63                     105  \n",
       "64                     103  \n",
       "65                     104  \n",
       "66                     107  \n",
       "\n",
       "[67 rows x 4 columns]"
      ]
     },
     "execution_count": 130,
     "metadata": {},
     "output_type": "execute_result"
    }
   ],
   "source": [
    "pd.read_csv(\"czas.csv\")"
   ]
  },
  {
   "cell_type": "code",
   "execution_count": null,
   "metadata": {},
   "outputs": [],
   "source": []
  }
 ],
 "metadata": {
  "kernelspec": {
   "display_name": "base",
   "language": "python",
   "name": "python3"
  },
  "language_info": {
   "codemirror_mode": {
    "name": "ipython",
    "version": 3
   },
   "file_extension": ".py",
   "mimetype": "text/x-python",
   "name": "python",
   "nbconvert_exporter": "python",
   "pygments_lexer": "ipython3",
   "version": "3.9.12"
  },
  "orig_nbformat": 4
 },
 "nbformat": 4,
 "nbformat_minor": 2
}
