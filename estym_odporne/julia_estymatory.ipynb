{
 "cells": [
  {
   "cell_type": "code",
   "execution_count": 1,
   "metadata": {},
   "outputs": [],
   "source": [
    "using Distributions\n",
    "using Random\n",
    "using Statistics\n",
    "using StatsFuns\n",
    "using LinearAlgebra\n",
    "using Plots\n",
    "using PyCall"
   ]
  },
  {
   "cell_type": "code",
   "execution_count": 2,
   "metadata": {},
   "outputs": [
    {
     "data": {
      "text/plain": [
       "Zt (generic function with 1 method)"
      ]
     },
     "metadata": {},
     "output_type": "display_data"
    }
   ],
   "source": [
    "function Zt(p, zt, n)\n",
    "    return [i > 2 * p ? 0 : (i < p ? zt : -zt) for i in (rand() for i in 1:n)]\n",
    "end"
   ]
  },
  {
   "cell_type": "code",
   "execution_count": 3,
   "metadata": {},
   "outputs": [
    {
     "data": {
      "text/plain": [
       "MA1_process (generic function with 1 method)"
      ]
     },
     "metadata": {},
     "output_type": "display_data"
    }
   ],
   "source": [
    "function MA1_process(n, theta, sigma)\n",
    "    Z = rand(Normal(0, sigma), n+1)\n",
    "    return [Z[i+1] + theta*Z[i] for i in 1:n]\n",
    "end"
   ]
  },
  {
   "cell_type": "code",
   "execution_count": 4,
   "metadata": {},
   "outputs": [
    {
     "data": {
      "text/plain": [
       "theoretic_ACF_MA1 (generic function with 1 method)"
      ]
     },
     "metadata": {},
     "output_type": "display_data"
    }
   ],
   "source": [
    "function theoretic_ACF_MA1(theta, lag)\n",
    "    acf = zeros(1, lag[2] + 1)\n",
    "    acf[1] = 1\n",
    "    acf[2] = theta/(1+theta^2)\n",
    "    return acf\n",
    "end"
   ]
  },
  {
   "cell_type": "code",
   "execution_count": 5,
   "metadata": {},
   "outputs": [
    {
     "data": {
      "text/plain": [
       "autocov (generic function with 1 method)"
      ]
     },
     "metadata": {},
     "output_type": "display_data"
    }
   ],
   "source": [
    "function autocov(X, lag)\n",
    "    return [1/length(X) * (sum((X[1:end - i] .- mean(X)) .* (X[i + 1:end] .- mean(X)))) for i in lag[1]:lag[2]]\n",
    "end"
   ]
  },
  {
   "cell_type": "code",
   "execution_count": 6,
   "metadata": {},
   "outputs": [
    {
     "data": {
      "text/plain": [
       "autocorr (generic function with 1 method)"
      ]
     },
     "metadata": {},
     "output_type": "display_data"
    }
   ],
   "source": [
    "function autocorr(X, lag)\n",
    "    return [i/autocov(X, [0, 1])[1] for i in autocov(X, lag)]\n",
    "end"
   ]
  },
  {
   "cell_type": "code",
   "execution_count": 7,
   "metadata": {},
   "outputs": [
    {
     "name": "stdout",
     "output_type": "stream",
     "text": [
      "  1.760131 seconds (380.00 k allocations: 2.203 GiB, 19.83% gc time)\n"
     ]
    }
   ],
   "source": [
    "@time begin\n",
    "for i in 1:10000\n",
    "    Xt = MA1_process(1000, 0.5, 1)\n",
    "    autocorr(Xt, [0, 2])\n",
    "end\n",
    "end"
   ]
  },
  {
   "cell_type": "code",
   "execution_count": 8,
   "metadata": {},
   "outputs": [
    {
     "name": "stdout",
     "output_type": "stream",
     "text": [
      "0.9389803576695295\n"
     ]
    }
   ],
   "source": [
    "function Q(X, k)\n",
    "    values = [abs(X[j] - X[i]) for i in 1:length(X) for j in 1:i]\n",
    "    values = sort(values)\n",
    "    return k * values[Int64(floor((binomial(length(X), 2) + 2) / 4))]\n",
    "end\n",
    "Xt = MA1_process(100, 0.5, 1)\n",
    "println(Q(Xt, 2.2191))"
   ]
  },
  {
   "cell_type": "code",
   "execution_count": 9,
   "metadata": {},
   "outputs": [
    {
     "data": {
      "text/plain": [
       "autocorr1 (generic function with 1 method)"
      ]
     },
     "metadata": {},
     "output_type": "display_data"
    }
   ],
   "source": [
    "function autocorr1(X, lag, k)\n",
    "    acf = Float64[]\n",
    "    for h in lag[1]:lag[2]\n",
    "        u = X[1:end-h]\n",
    "        v = X[h+1:end]\n",
    "        append!(acf, ((Q(u .+ v, k)) ^ 2 - (Q(u .- v, k)) ^ 2) / ((Q(u .+ v, k)) ^ 2 + (Q(u .- v, k)) ^ 2))\n",
    "    end\n",
    "    return acf\n",
    "end"
   ]
  },
  {
   "cell_type": "code",
   "execution_count": 10,
   "metadata": {},
   "outputs": [
    {
     "name": "stdout",
     "output_type": "stream",
     "text": [
      "[1.0, 0.47929399941799916, 0.09267493976310583, -0.007836117022249836, -0.009704022948241324, 0.010234336584157021]\n"
     ]
    }
   ],
   "source": [
    "Xt = MA1_process(1000, 0.5, 1)\n",
    "println(autocorr1(Xt, [0, 5], 2.2191))"
   ]
  },
  {
   "cell_type": "markdown",
   "metadata": {},
   "source": [
    "#########################"
   ]
  },
  {
   "cell_type": "code",
   "execution_count": 11,
   "metadata": {},
   "outputs": [
    {
     "data": {
      "text/plain": [
       "g (generic function with 1 method)"
      ]
     },
     "metadata": {},
     "output_type": "display_data"
    }
   ],
   "source": [
    "function g(alfa, n)\n",
    "    return Int64(floor(n * alfa))\n",
    "end"
   ]
  },
  {
   "cell_type": "code",
   "execution_count": 12,
   "metadata": {},
   "outputs": [
    {
     "data": {
      "text/plain": [
       "L (generic function with 1 method)"
      ]
     },
     "metadata": {},
     "output_type": "display_data"
    }
   ],
   "source": [
    "function L(X, t, alfa)\n",
    "    Y = sort(X)\n",
    "    n = length(X)\n",
    "    g_ = g(alfa, n)\n",
    "    return (Y[g_] < X[t] && X[t] < Y[n - g_]) ? 1 : 0\n",
    "end"
   ]
  },
  {
   "cell_type": "code",
   "execution_count": 13,
   "metadata": {},
   "outputs": [
    {
     "data": {
      "text/plain": [
       "mean_X (generic function with 1 method)"
      ]
     },
     "metadata": {},
     "output_type": "display_data"
    }
   ],
   "source": [
    "function mean_X(X, alfa)\n",
    "    suma1 = sum([L(X, i, alfa) for i in 1:length(X)])\n",
    "    suma2 = sum([X[i] .* L(X, i, alfa) for i in 1:length(X)])\n",
    "    return 1 / suma1 * suma2\n",
    "end"
   ]
  },
  {
   "cell_type": "code",
   "execution_count": 14,
   "metadata": {},
   "outputs": [
    {
     "data": {
      "text/plain": [
       "autocov2 (generic function with 1 method)"
      ]
     },
     "metadata": {},
     "output_type": "display_data"
    }
   ],
   "source": [
    "function autocov2(X, lag, alfa)\n",
    "    n = length(X)\n",
    "    L_vector = [L(X, i, alfa) for i in 1:n]\n",
    "    acvf = Float64[]\n",
    "    for h in lag[1]:lag[2]\n",
    "        if h == 0\n",
    "            suma1 = sum(L_vector)\n",
    "            suma2 = sum(X .^ 2 .* L_vector)\n",
    "        else\n",
    "            suma1 = sum(L_vector[1:end-h] .* L_vector[h + 1:end])\n",
    "            suma2 = sum((X[1:end-h] .- mean_X(X, alfa)) .* (X[1+h:end] .- mean_X(X, alfa)) .* L_vector[1:end-h] .* L_vector[1+h:end])\n",
    "        end\n",
    "        append!(acvf, suma2 / suma1)\n",
    "        end\n",
    "    return acvf\n",
    "end"
   ]
  },
  {
   "cell_type": "code",
   "execution_count": 15,
   "metadata": {},
   "outputs": [
    {
     "data": {
      "text/plain": [
       "autocorr2 (generic function with 1 method)"
      ]
     },
     "metadata": {},
     "output_type": "display_data"
    }
   ],
   "source": [
    "function autocorr2(X, lag, alfa)\n",
    "    acvf = autocov2(X, lag, alfa)[1]\n",
    "    return [i / acvf for i in autocov2(X, lag, alfa)]\n",
    "end"
   ]
  },
  {
   "cell_type": "code",
   "execution_count": 16,
   "metadata": {},
   "outputs": [
    {
     "name": "stdout",
     "output_type": "stream",
     "text": [
      "[1.0, 0.35027820173515645, 0.015078664301351486, -0.006251664326427437, -0.03844526416151921, -0.04453018059475347]\n"
     ]
    }
   ],
   "source": [
    "Xt = MA1_process(1000, 0.5, 1)\n",
    "println(autocorr2(Xt, [0, 5], 0.015))"
   ]
  },
  {
   "cell_type": "markdown",
   "metadata": {},
   "source": [
    "#############################"
   ]
  },
  {
   "cell_type": "code",
   "execution_count": 17,
   "metadata": {},
   "outputs": [
    {
     "data": {
      "text/plain": [
       "autocorr4 (generic function with 1 method)"
      ]
     },
     "metadata": {},
     "output_type": "display_data"
    }
   ],
   "source": [
    "function autocorr4(X, lag)\n",
    "    X = X .- mean(X)\n",
    "    acf = Float64[1.0]\n",
    "    denominator = median([i^2 for i in X])\n",
    "    for h in lag[1] + 1:lag[2]\n",
    "        append!(acf, median(X[1:end-h] .* X[1+h:end])/denominator)\n",
    "    end\n",
    "    return acf\n",
    "end"
   ]
  },
  {
   "cell_type": "code",
   "execution_count": 18,
   "metadata": {},
   "outputs": [
    {
     "name": "stdout",
     "output_type": "stream",
     "text": [
      "[1.0, 0.2988127695321756, 0.025330414476251322, -0.01276365200530693, -0.006387238734640111, -0.002770354968405067]\n"
     ]
    }
   ],
   "source": [
    "Xt = MA1_process(1000, 0.5, 1)\n",
    "println(autocorr4(Xt, [0, 5]))"
   ]
  },
  {
   "cell_type": "markdown",
   "metadata": {},
   "source": [
    "######################################"
   ]
  },
  {
   "cell_type": "code",
   "execution_count": 19,
   "metadata": {},
   "outputs": [
    {
     "data": {
      "text/plain": [
       "J (generic function with 1 method)"
      ]
     },
     "metadata": {},
     "output_type": "display_data"
    }
   ],
   "source": [
    "function J(x)\n",
    "    return norminvcdf(x)\n",
    "end"
   ]
  },
  {
   "cell_type": "code",
   "execution_count": 20,
   "metadata": {},
   "outputs": [
    {
     "data": {
      "text/plain": [
       "c (generic function with 1 method)"
      ]
     },
     "metadata": {},
     "output_type": "display_data"
    }
   ],
   "source": [
    "function c(X)\n",
    "    n = length(X)\n",
    "    R = sort(X)\n",
    "    return 1 / sum([(J((findfirst(item -> item == R[i], X)) / (n + 1)))^2 for i in 1:n])\n",
    "end"
   ]
  },
  {
   "cell_type": "code",
   "execution_count": 21,
   "metadata": {},
   "outputs": [
    {
     "data": {
      "text/plain": [
       "autocorr3 (generic function with 1 method)"
      ]
     },
     "metadata": {},
     "output_type": "display_data"
    }
   ],
   "source": [
    "function autocorr3(X, lag)\n",
    "    acf = Float64[]\n",
    "    n = length(X)\n",
    "    R = sort(X)\n",
    "    for h in lag[1]:lag[2]\n",
    "        suma = 0\n",
    "        for i in 1:n-h\n",
    "            suma += J((findfirst(item -> item == X[i], R))/ (n+1)) * J((findfirst(item -> item == X[i+h], R))/ (n+1))\n",
    "        end\n",
    "        append!(acf, c(X) * suma)\n",
    "    end\n",
    "    return acf\n",
    "end"
   ]
  },
  {
   "cell_type": "code",
   "execution_count": 22,
   "metadata": {},
   "outputs": [
    {
     "name": "stdout",
     "output_type": "stream",
     "text": [
      "[0.9999999999999989, 0.355809435236412, -0.04230484739543982, -0.011683786561724356, -0.004341784406409456, -0.04645480657901478]\n"
     ]
    }
   ],
   "source": [
    "Xt = MA1_process(1000, 0.5, 1)\n",
    "println(autocorr3(Xt, [0, 5]))"
   ]
  },
  {
   "cell_type": "code",
   "execution_count": 23,
   "metadata": {},
   "outputs": [
    {
     "data": {
      "text/plain": [
       "autocorr5 (generic function with 1 method)"
      ]
     },
     "metadata": {},
     "output_type": "display_data"
    }
   ],
   "source": [
    "function autocorr5(X, lag)\n",
    "    n = length(X)\n",
    "    return [2/((n - h)*(n - h - 1)) * sum([sign((X[i] - X[j]) * (X[i + h] - X[j + h]))\n",
    "                for i in 1:n - h for j in 1:i]) for h in lag[1]:lag[2]]\n",
    "end"
   ]
  },
  {
   "cell_type": "code",
   "execution_count": 24,
   "metadata": {
    "scrolled": false
   },
   "outputs": [
    {
     "name": "stdout",
     "output_type": "stream",
     "text": [
      "[0.9999999999999999, 0.23674375778584195, -0.023559656926691902, -0.028084252758274822, -0.030437327198240195, 0.0015712364640101918]\n"
     ]
    }
   ],
   "source": [
    "Xt = MA1_process(1000, 0.5, 1)\n",
    "println(autocorr5(Xt, [0, 5]))"
   ]
  },
  {
   "cell_type": "markdown",
   "metadata": {},
   "source": [
    "####################################"
   ]
  },
  {
   "cell_type": "code",
   "execution_count": 25,
   "metadata": {},
   "outputs": [
    {
     "data": {
      "text/plain": [
       "autocorr6 (generic function with 1 method)"
      ]
     },
     "metadata": {},
     "output_type": "display_data"
    }
   ],
   "source": [
    "function autocorr6(X, lag)\n",
    "    n = length(X)\n",
    "    mediana = median(X)\n",
    "    acf = [1/(n - h) * sum([sign(i) for i in ((X[1:end-h] .- mediana) .*\n",
    "                (X[1+h:end] .- mediana))]) for h in lag[1] + 1:lag[2]]\n",
    "    return Float64[i==1 ? 1 : acf[i-1] for i in 1:length(acf) + 1]\n",
    "end"
   ]
  },
  {
   "cell_type": "code",
   "execution_count": 26,
   "metadata": {},
   "outputs": [
    {
     "name": "stdout",
     "output_type": "stream",
     "text": [
      "[1.0, 0.25925925925925924, -0.022044088176352703, 0.02106318956870612, 0.08032128514056225, 0.009045226130653268]\n"
     ]
    }
   ],
   "source": [
    "Xt = MA1_process(1000, 0.5, 1)\n",
    "println(autocorr6(Xt, [0, 5]))"
   ]
  },
  {
   "cell_type": "markdown",
   "metadata": {},
   "source": [
    "##############################"
   ]
  },
  {
   "cell_type": "code",
   "execution_count": 27,
   "metadata": {},
   "outputs": [
    {
     "data": {
      "text/plain": [
       "zmatrix (generic function with 1 method)"
      ]
     },
     "metadata": {},
     "output_type": "display_data"
    }
   ],
   "source": [
    "function zmatrix(X, k)\n",
    "    n = length(X)\n",
    "    Zk = zeros(k + 1, n + k)\n",
    "    for j in 1:k+1\n",
    "        Zk[j, j:j+n-1] = X[1:end]\n",
    "    end\n",
    "    return Zk\n",
    "end"
   ]
  },
  {
   "cell_type": "code",
   "execution_count": 28,
   "metadata": {},
   "outputs": [
    {
     "data": {
      "text/plain": [
       "gamma_k (generic function with 1 method)"
      ]
     },
     "metadata": {},
     "output_type": "display_data"
    }
   ],
   "source": [
    "function gamma_k(X, k)\n",
    "    z_matr = zmatrix(X, k)\n",
    "    return (z_matr * transpose(z_matr))/length(X)\n",
    "end"
   ]
  },
  {
   "cell_type": "code",
   "execution_count": 29,
   "metadata": {},
   "outputs": [
    {
     "data": {
      "text/plain": [
       "0.415476220559682"
      ]
     },
     "metadata": {},
     "output_type": "display_data"
    }
   ],
   "source": [
    "function Xi(X, k, i, j)\n",
    "    gamm = gamma_k(X, k)\n",
    "    return gamm[i, j]/sqrt(gamm[i, i] * gamm[j, j])\n",
    "end\n",
    "Xi(Xt, 10, 3, 4)"
   ]
  },
  {
   "cell_type": "code",
   "execution_count": 30,
   "metadata": {},
   "outputs": [
    {
     "name": "stdout",
     "output_type": "stream",
     "text": [
      "[1.0, 0.40795681998145295, 0.03025049584994323, 0.028281308689702363, 0.01018063033238143, 0.002831246144638307]\n"
     ]
    }
   ],
   "source": [
    "function autocorr7(X, lag)\n",
    "    k = lag[2]\n",
    "    return [1/(k - h + 1)*sum([Xi(X, k, i, i + h) for i in 1:k - h + 1]) for h in lag[1]:lag[2]]\n",
    "end\n",
    "Xt = MA1_process(1000, 0.5, 1)\n",
    "println(autocorr7(Xt, [0, 5]))"
   ]
  },
  {
   "cell_type": "code",
   "execution_count": 31,
   "metadata": {},
   "outputs": [
    {
     "name": "stdout",
     "output_type": "stream",
     "text": [
      "[1.0, 0.4192308238693258, -0.047141023264409575, -0.09644359567437308, -0.061441243626334296, -0.015689828827819455]\n"
     ]
    }
   ],
   "source": [
    "function autocorr8(X, lag)\n",
    "    return [(var(X[1+h:end].+X[1:end-h]) - var(X[1+h:end] .- X[1:end-h]))/(var(X[1+h:end].+X[1:end-h]) + var(X[1+h:end] .- X[1:end-h]))\n",
    "            for h in lag[1]:lag[2]]\n",
    "end\n",
    "Xt = MA1_process(1000, 0.5, 1)\n",
    "println(autocorr8(Xt, [0, 5]))"
   ]
  },
  {
   "cell_type": "code",
   "execution_count": 32,
   "metadata": {},
   "outputs": [
    {
     "data": {
      "text/plain": [
       "IQR2 (generic function with 2 methods)"
      ]
     },
     "metadata": {},
     "output_type": "display_data"
    }
   ],
   "source": [
    "function MAD2(X, cons=1.4826)\n",
    "    return (cons * median( abs.(X .- median(X)) ))^2\n",
    "end\n",
    "\n",
    "function IQR2(X, cons=0.7413)\n",
    "    return (cons * (quantile(X, 0.75) - quantile(X, 0.25)))^2\n",
    "end"
   ]
  },
  {
   "cell_type": "code",
   "execution_count": 33,
   "metadata": {},
   "outputs": [
    {
     "data": {
      "text/plain": [
       "autocorr9 (generic function with 1 method)"
      ]
     },
     "metadata": {},
     "output_type": "display_data"
    }
   ],
   "source": [
    "function autocorr9(X, lag)\n",
    "    return [(MAD2(X[1+h:end].+X[1:end-h]) - MAD2(X[1+h:end] .- X[1:end-h]))/(MAD2(X[1+h:end].+X[1:end-h]) + MAD2(X[1+h:end] .- X[1:end-h]))\n",
    "            for h in lag[1]:lag[2]]\n",
    "end"
   ]
  },
  {
   "cell_type": "code",
   "execution_count": 34,
   "metadata": {},
   "outputs": [
    {
     "data": {
      "text/plain": [
       "autocorr10 (generic function with 1 method)"
      ]
     },
     "metadata": {},
     "output_type": "display_data"
    }
   ],
   "source": [
    "function autocorr10(X, lag)\n",
    "    return [(IQR2(X[1+h:end].+X[1:end-h]) - IQR2(X[1+h:end] .- X[1:end-h]))/(IQR2(X[1+h:end].+X[1:end-h]) + IQR2(X[1+h:end] .- X[1:end-h]))\n",
    "            for h in lag[1]:lag[2]]\n",
    "end"
   ]
  },
  {
   "cell_type": "markdown",
   "metadata": {},
   "source": [
    "##################################"
   ]
  },
  {
   "cell_type": "code",
   "execution_count": 35,
   "metadata": {},
   "outputs": [
    {
     "data": {
      "text/plain": [
       "6-element Vector{Int64}:\n",
       "  3\n",
       " 10\n",
       " 20\n",
       " 30\n",
       " 40\n",
       " 50"
      ]
     },
     "metadata": {},
     "output_type": "display_data"
    }
   ],
   "source": [
    "n = [100, 500, 1000]\n",
    "p = [0.01, 0.02, 0.03, 0.04, 0.05, 0.06, 0.07]\n",
    "a = [3, 10, 20, 30, 40, 50]"
   ]
  },
  {
   "cell_type": "code",
   "execution_count": 36,
   "metadata": {},
   "outputs": [
    {
     "data": {
      "text/plain": [
       "comparison_emp_acf_theo_acf (generic function with 1 method)"
      ]
     },
     "metadata": {},
     "output_type": "display_data"
    }
   ],
   "source": [
    "global teta = 0.5\n",
    "function comparison_emp_acf_theo_acf(acf, name)\n",
    "    for j in n\n",
    "        for k in 1:length(a)\n",
    "             for l in 1:length(p)\n",
    "                 Yt = [MA1_process(j, teta, 1) + Zt(p[l], a[k], j) for i in 1:100]\n",
    "                 name == \"autocorr1\" ? emp_acf = [acf(Yt[i], [0, 5], 2.2191) for i in 1:length(Yt)] : (name == \"autocorr2\" ? emp_acf = [acf(Yt[i], [0, 5], 0.015) for i in 1:length(Yt)] : emp_acf = [acf(Yt[i], [0, 5]) for i in 1:length(Yt)])\n",
    "                 emp_acf = mean(emp_acf)\n",
    "                 global text = \"\"\n",
    "                 for i in emp_acf\n",
    "                     global text = text * string(i) * \"\\n\"\n",
    "                 end\n",
    "                 open(string(@__DIR__) * \"/dane/dla_zwyklego_modelu_MA1/\" * name * \"_n\" * string(j) * \"_a\" * string(a[k]) * \"_p\" * string(p[l]) * \".txt\", \"w\") do f\n",
    "                     write(f, text)\n",
    "                 end\n",
    "             end\n",
    "         end\n",
    "     end\n",
    " end"
   ]
  },
  {
   "cell_type": "code",
   "execution_count": 37,
   "metadata": {},
   "outputs": [
    {
     "name": "stdout",
     "output_type": "stream",
     "text": [
      "  3.425544 seconds (2.05 M allocations: 3.064 GiB, 16.87% gc time, 23.41% compilation time)\n"
     ]
    }
   ],
   "source": [
    "@time begin\n",
    "    comparison_emp_acf_theo_acf(autocorr, \"autocorr\")\n",
    "end"
   ]
  },
  {
   "cell_type": "code",
   "execution_count": 38,
   "metadata": {},
   "outputs": [
    {
     "name": "stdout",
     "output_type": "stream",
     "text": [
      "4344.559937 seconds (4.80 M allocations: 1.151 TiB, 2.02% gc time, 0.00% compilation time)\n"
     ]
    }
   ],
   "source": [
    "@time begin\n",
    "    comparison_emp_acf_theo_acf(autocorr1, \"autocorr1\")\n",
    "end"
   ]
  },
  {
   "cell_type": "code",
   "execution_count": 39,
   "metadata": {},
   "outputs": [
    {
     "name": "stdout",
     "output_type": "stream",
     "text": [
      "3325.860912 seconds (284.05 M allocations: 1.659 TiB, 1.37% gc time, 0.00% compilation time)\n"
     ]
    }
   ],
   "source": [
    "@time begin\n",
    "    comparison_emp_acf_theo_acf(autocorr2, \"autocorr2\")\n",
    "end"
   ]
  },
  {
   "cell_type": "code",
   "execution_count": 40,
   "metadata": {},
   "outputs": [
    {
     "name": "stdout",
     "output_type": "stream",
     "text": [
      " 60.479694 seconds (376.35 k allocations: 907.812 MiB, 0.08% gc time, 0.21% compilation time)\n"
     ]
    }
   ],
   "source": [
    "@time begin\n",
    "    comparison_emp_acf_theo_acf(autocorr3, \"autocorr3\")\n",
    "end"
   ]
  },
  {
   "cell_type": "code",
   "execution_count": 41,
   "metadata": {},
   "outputs": [
    {
     "name": "stdout",
     "output_type": "stream",
     "text": [
      "  1.324107 seconds (502.36 k allocations: 1.399 GiB, 5.48% gc time, 3.59% compilation time)\n"
     ]
    }
   ],
   "source": [
    "@time begin\n",
    "    comparison_emp_acf_theo_acf(autocorr4, \"autocorr4\")\n",
    "end"
   ]
  },
  {
   "cell_type": "code",
   "execution_count": 42,
   "metadata": {},
   "outputs": [
    {
     "name": "stdout",
     "output_type": "stream",
     "text": [
      "264.894304 seconds (1.08 M allocations: 176.768 GiB, 5.34% gc time, 0.01% compilation time)\n"
     ]
    }
   ],
   "source": [
    "@time begin\n",
    "    comparison_emp_acf_theo_acf(autocorr5, \"autocorr5\")\n",
    "end"
   ]
  },
  {
   "cell_type": "code",
   "execution_count": 43,
   "metadata": {},
   "outputs": [
    {
     "name": "stdout",
     "output_type": "stream",
     "text": [
      "  0.990850 seconds (477.15 k allocations: 1.297 GiB, 9.89% gc time, 4.50% compilation time)\n"
     ]
    }
   ],
   "source": [
    "@time begin\n",
    "    comparison_emp_acf_theo_acf(autocorr6, \"autocorr6\")\n",
    "end"
   ]
  },
  {
   "cell_type": "code",
   "execution_count": 44,
   "metadata": {},
   "outputs": [
    {
     "name": "stdout",
     "output_type": "stream",
     "text": [
      "  6.870031 seconds (2.83 M allocations: 13.291 GiB, 7.92% gc time, 0.71% compilation time)\n"
     ]
    }
   ],
   "source": [
    "@time begin\n",
    "    comparison_emp_acf_theo_acf(autocorr7, \"autocorr7\")\n",
    "end"
   ]
  },
  {
   "cell_type": "code",
   "execution_count": 45,
   "metadata": {},
   "outputs": [
    {
     "name": "stdout",
     "output_type": "stream",
     "text": [
      "  1.943561 seconds (1.11 M allocations: 3.919 GiB, 16.15% gc time, 3.18% compilation time)\n"
     ]
    }
   ],
   "source": [
    "@time begin\n",
    "    comparison_emp_acf_theo_acf(autocorr8, \"autocorr8\")\n",
    "end"
   ]
  },
  {
   "cell_type": "code",
   "execution_count": 46,
   "metadata": {},
   "outputs": [
    {
     "name": "stdout",
     "output_type": "stream",
     "text": [
      "  8.031506 seconds (2.30 M allocations: 7.636 GiB, 5.44% gc time, 5.17% compilation time)\n"
     ]
    }
   ],
   "source": [
    "@time begin\n",
    "    comparison_emp_acf_theo_acf(autocorr9, \"autocorr9\")\n",
    "end"
   ]
  },
  {
   "cell_type": "code",
   "execution_count": 47,
   "metadata": {},
   "outputs": [
    {
     "name": "stdout",
     "output_type": "stream",
     "text": [
      "  6.995282 seconds (2.01 M allocations: 6.402 GiB, 5.09% gc time, 4.60% compilation time)\n"
     ]
    }
   ],
   "source": [
    "@time begin\n",
    "    comparison_emp_acf_theo_acf(autocorr10, \"autocorr10\")\n",
    "end"
   ]
  },
  {
   "cell_type": "markdown",
   "metadata": {},
   "source": [
    "### Dla modelu ARMA"
   ]
  },
  {
   "cell_type": "code",
   "execution_count": 48,
   "metadata": {},
   "outputs": [
    {
     "data": {
      "text/plain": [
       "comparison_emp_acf_theo_acf_ARMA44 (generic function with 1 method)"
      ]
     },
     "metadata": {},
     "output_type": "display_data"
    }
   ],
   "source": [
    "arma_pack = pyimport(\"statsmodels.tsa.arima_process\")\n",
    "np = pyimport(\"numpy\")\n",
    "ar4 = np.array([1, 0.33, 0.5, 0.86, 0.34])\n",
    "ma4 = np.array([1, 0.9, 0.3, 0.12, 0.94])\n",
    "global teta = 0.5\n",
    "function comparison_emp_acf_theo_acf_ARMA44(acf, name)\n",
    "    for j in n\n",
    "        for k in 1:length(a)\n",
    "             for l in 1:length(p)\n",
    "                 Yt = [arma_pack.ArmaProcess(ar4, ma4).generate_sample(nsample=j) + Zt(p[l], a[k], j) for i in 1:100]\n",
    "                 name == \"autocorr1\" ? emp_acf = [acf(Yt[i], [0, 5], 2.2191) for i in 1:length(Yt)] : (name == \"autocorr2\" ? emp_acf = [acf(Yt[i], [0, 5], 0.015) for i in 1:length(Yt)] : emp_acf = [acf(Yt[i], [0, 5]) for i in 1:length(Yt)])\n",
    "                 emp_acf = mean(emp_acf)\n",
    "                 global text = \"\"\n",
    "                 for i in emp_acf\n",
    "                     global text = text * string(i) * \"\\n\"\n",
    "                 end\n",
    "                 open(string(@__DIR__) * \"/dane/dla_modelu_arma44/\" * name * \"_n\" * string(j) * \"_a\" * string(a[k]) * \"_p\" * string(p[l]) * \".txt\", \"w\") do f\n",
    "                     write(f, text)\n",
    "                 end\n",
    "             end\n",
    "         end\n",
    "     end\n",
    " end"
   ]
  },
  {
   "cell_type": "code",
   "execution_count": 49,
   "metadata": {},
   "outputs": [
    {
     "name": "stdout",
     "output_type": "stream",
     "text": [
      "  3.617565 seconds (2.28 M allocations: 3.022 GiB, 7.35% gc time, 15.55% compilation time)\n"
     ]
    }
   ],
   "source": [
    "@time begin\n",
    "    comparison_emp_acf_theo_acf_ARMA44(autocorr, \"autocorr\")\n",
    "end"
   ]
  },
  {
   "cell_type": "code",
   "execution_count": 50,
   "metadata": {},
   "outputs": [
    {
     "name": "stdout",
     "output_type": "stream",
     "text": [
      "4374.247891 seconds (5.49 M allocations: 1.151 TiB, 1.97% gc time, 0.00% compilation time)\n"
     ]
    }
   ],
   "source": [
    "@time begin\n",
    "    comparison_emp_acf_theo_acf_ARMA44(autocorr1, \"autocorr1\")\n",
    "end"
   ]
  },
  {
   "cell_type": "code",
   "execution_count": 51,
   "metadata": {},
   "outputs": [
    {
     "name": "stdout",
     "output_type": "stream",
     "text": [
      "2034.337192 seconds (284.74 M allocations: 1.659 TiB, 2.35% gc time, 0.00% compilation time)\n"
     ]
    }
   ],
   "source": [
    "@time begin\n",
    "    comparison_emp_acf_theo_acf_ARMA44(autocorr2, \"autocorr2\")\n",
    "end"
   ]
  },
  {
   "cell_type": "code",
   "execution_count": 52,
   "metadata": {},
   "outputs": [
    {
     "name": "stdout",
     "output_type": "stream",
     "text": [
      " 43.278418 seconds (1.07 M allocations: 889.300 MiB, 0.12% gc time, 0.09% compilation time)\n"
     ]
    }
   ],
   "source": [
    "@time begin\n",
    "    comparison_emp_acf_theo_acf_ARMA44(autocorr3, \"autocorr3\")\n",
    "end"
   ]
  },
  {
   "cell_type": "code",
   "execution_count": 53,
   "metadata": {},
   "outputs": [
    {
     "name": "stdout",
     "output_type": "stream",
     "text": [
      "  2.207511 seconds (1.19 M allocations: 1.381 GiB, 3.64% gc time, 1.81% compilation time)\n"
     ]
    }
   ],
   "source": [
    "@time begin\n",
    "    comparison_emp_acf_theo_acf_ARMA44(autocorr4, \"autocorr4\")\n",
    "end"
   ]
  },
  {
   "cell_type": "code",
   "execution_count": 54,
   "metadata": {},
   "outputs": [
    {
     "name": "stdout",
     "output_type": "stream",
     "text": [
      "186.565389 seconds (1.77 M allocations: 176.750 GiB, 6.28% gc time, 0.02% compilation time)\n"
     ]
    }
   ],
   "source": [
    "@time begin\n",
    "    comparison_emp_acf_theo_acf_ARMA44(autocorr5, \"autocorr5\")\n",
    "end"
   ]
  },
  {
   "cell_type": "code",
   "execution_count": 55,
   "metadata": {},
   "outputs": [
    {
     "name": "stdout",
     "output_type": "stream",
     "text": [
      "  1.542281 seconds (1.17 M allocations: 1.279 GiB, 5.03% gc time, 2.36% compilation time)\n"
     ]
    }
   ],
   "source": [
    "@time begin\n",
    "    comparison_emp_acf_theo_acf_ARMA44(autocorr6, \"autocorr6\")\n",
    "end"
   ]
  },
  {
   "cell_type": "code",
   "execution_count": 56,
   "metadata": {},
   "outputs": [
    {
     "name": "stdout",
     "output_type": "stream",
     "text": [
      "  5.829905 seconds (3.52 M allocations: 13.273 GiB, 7.45% gc time, 0.59% compilation time)\n"
     ]
    }
   ],
   "source": [
    "@time begin\n",
    "    comparison_emp_acf_theo_acf_ARMA44(autocorr7, \"autocorr7\")\n",
    "end"
   ]
  },
  {
   "cell_type": "code",
   "execution_count": 57,
   "metadata": {},
   "outputs": [
    {
     "name": "stdout",
     "output_type": "stream",
     "text": [
      "  2.126195 seconds (1.80 M allocations: 3.901 GiB, 8.78% gc time, 1.50% compilation time)\n"
     ]
    }
   ],
   "source": [
    "@time begin\n",
    "    comparison_emp_acf_theo_acf_ARMA44(autocorr8, \"autocorr8\")\n",
    "end"
   ]
  },
  {
   "cell_type": "code",
   "execution_count": 58,
   "metadata": {},
   "outputs": [
    {
     "name": "stdout",
     "output_type": "stream",
     "text": [
      "  4.969982 seconds (2.70 M allocations: 7.604 GiB, 6.73% gc time, 0.69% compilation time)\n"
     ]
    }
   ],
   "source": [
    "@time begin\n",
    "    comparison_emp_acf_theo_acf_ARMA44(autocorr9, \"autocorr9\")\n",
    "end"
   ]
  },
  {
   "cell_type": "code",
   "execution_count": 59,
   "metadata": {},
   "outputs": [
    {
     "name": "stdout",
     "output_type": "stream",
     "text": [
      "  4.673709 seconds (2.40 M allocations: 6.370 GiB, 6.00% gc time, 0.66% compilation time)\n"
     ]
    }
   ],
   "source": [
    "@time begin\n",
    "    comparison_emp_acf_theo_acf_ARMA44(autocorr10, \"autocorr10\")\n",
    "end"
   ]
  },
  {
   "cell_type": "markdown",
   "metadata": {},
   "source": [
    "### Dla rozkładu t-studenta z 4 stopniami swobody"
   ]
  },
  {
   "cell_type": "code",
   "execution_count": 60,
   "metadata": {},
   "outputs": [
    {
     "data": {
      "text/plain": [
       "comparison_emp_acf_theo_acf_t (generic function with 1 method)"
      ]
     },
     "metadata": {},
     "output_type": "display_data"
    }
   ],
   "source": [
    "global teta = 0.5\n",
    "\n",
    "function MA1_process_t_distribution(n, theta, freedom_degrees)\n",
    "    Z = rand(TDist(freedom_degrees), n+1)\n",
    "    return [Z[i+1] + theta*Z[i] for i in 1:n]\n",
    "end\n",
    "\n",
    "function comparison_emp_acf_theo_acf_t(acf, name, df)\n",
    "    for j in n\n",
    "        for k in 1:length(a)\n",
    "             for l in 1:length(p)\n",
    "                 Yt = [MA1_process_t_distribution(j, teta, df) + Zt(p[l], a[k], j) for i in 1:100]\n",
    "                 name == \"autocorr1\" ? emp_acf = [acf(Yt[i], [0, 5], 2.2191) for i in 1:length(Yt)] : (name == \"autocorr2\" ? emp_acf = [acf(Yt[i], [0, 5], 0.015) for i in 1:length(Yt)] : emp_acf = [acf(Yt[i], [0, 5]) for i in 1:length(Yt)])\n",
    "                 emp_acf = mean(emp_acf)\n",
    "                 global text = \"\"\n",
    "                 for i in emp_acf\n",
    "                     global text = text * string(i) * \"\\n\"\n",
    "                 end\n",
    "                 open(string(@__DIR__) * \"/dane/dla_modelu_t4/\" * name * \"_n\" * string(j) * \"_a\" * string(a[k]) * \"_p\" * string(p[l]) * \".txt\", \"w\") do f\n",
    "                     write(f, text)\n",
    "                 end\n",
    "             end\n",
    "         end\n",
    "     end\n",
    " end"
   ]
  },
  {
   "cell_type": "code",
   "execution_count": 61,
   "metadata": {},
   "outputs": [
    {
     "name": "stdout",
     "output_type": "stream",
     "text": [
      "  1.578441 seconds (1.65 M allocations: 3.042 GiB, 9.78% gc time, 16.69% compilation time)\n"
     ]
    }
   ],
   "source": [
    "@time begin\n",
    "    comparison_emp_acf_theo_acf_t(autocorr, \"autocorr\", 4)\n",
    "end"
   ]
  },
  {
   "cell_type": "code",
   "execution_count": 62,
   "metadata": {},
   "outputs": [
    {
     "name": "stdout",
     "output_type": "stream",
     "text": [
      "3757.062761 seconds (4.80 M allocations: 1.151 TiB, 1.98% gc time, 0.00% compilation time)\n"
     ]
    }
   ],
   "source": [
    "@time begin\n",
    "    comparison_emp_acf_theo_acf_t(autocorr1, \"autocorr1\", 4)\n",
    "end"
   ]
  },
  {
   "cell_type": "code",
   "execution_count": 63,
   "metadata": {},
   "outputs": [
    {
     "name": "stdout",
     "output_type": "stream",
     "text": [
      "2329.740935 seconds (284.05 M allocations: 1.659 TiB, 2.00% gc time, 0.00% compilation time)\n"
     ]
    }
   ],
   "source": [
    "@time begin\n",
    "    comparison_emp_acf_theo_acf_t(autocorr2, \"autocorr2\", 4)\n",
    "end"
   ]
  },
  {
   "cell_type": "code",
   "execution_count": 64,
   "metadata": {},
   "outputs": [
    {
     "name": "stdout",
     "output_type": "stream",
     "text": [
      " 40.455277 seconds (376.35 k allocations: 907.810 MiB, 0.07% gc time, 0.08% compilation time)\n"
     ]
    }
   ],
   "source": [
    "@time begin\n",
    "    comparison_emp_acf_theo_acf_t(autocorr3, \"autocorr3\", 4)\n",
    "end"
   ]
  },
  {
   "cell_type": "code",
   "execution_count": 65,
   "metadata": {},
   "outputs": [
    {
     "name": "stdout",
     "output_type": "stream",
     "text": [
      "  1.165147 seconds (502.35 k allocations: 1.399 GiB, 3.84% gc time, 2.75% compilation time)\n"
     ]
    }
   ],
   "source": [
    "@time begin\n",
    "    comparison_emp_acf_theo_acf_t(autocorr4, \"autocorr4\", 4)\n",
    "end"
   ]
  },
  {
   "cell_type": "code",
   "execution_count": 66,
   "metadata": {},
   "outputs": [
    {
     "name": "stdout",
     "output_type": "stream",
     "text": [
      "181.447025 seconds (1.08 M allocations: 176.768 GiB, 5.28% gc time, 0.02% compilation time)\n"
     ]
    }
   ],
   "source": [
    "@time begin\n",
    "    comparison_emp_acf_theo_acf_t(autocorr5, \"autocorr5\", 4)\n",
    "end"
   ]
  },
  {
   "cell_type": "code",
   "execution_count": 67,
   "metadata": {},
   "outputs": [
    {
     "name": "stdout",
     "output_type": "stream",
     "text": [
      "  0.941111 seconds (477.15 k allocations: 1.297 GiB, 7.72% gc time, 3.33% compilation time)\n"
     ]
    }
   ],
   "source": [
    "@time begin\n",
    "    comparison_emp_acf_theo_acf_t(autocorr6, \"autocorr6\", 4)\n",
    "end"
   ]
  },
  {
   "cell_type": "code",
   "execution_count": 68,
   "metadata": {},
   "outputs": [
    {
     "name": "stdout",
     "output_type": "stream",
     "text": [
      "  5.155469 seconds (2.83 M allocations: 13.291 GiB, 8.18% gc time, 0.56% compilation time)\n"
     ]
    }
   ],
   "source": [
    "@time begin\n",
    "    comparison_emp_acf_theo_acf_t(autocorr7, \"autocorr7\", 4)\n",
    "end"
   ]
  },
  {
   "cell_type": "code",
   "execution_count": 69,
   "metadata": {},
   "outputs": [
    {
     "name": "stdout",
     "output_type": "stream",
     "text": [
      "  1.610114 seconds (1.11 M allocations: 3.919 GiB, 12.75% gc time, 1.74% compilation time)\n"
     ]
    }
   ],
   "source": [
    "@time begin\n",
    "    comparison_emp_acf_theo_acf_t(autocorr8, \"autocorr8\", 4)\n",
    "end"
   ]
  },
  {
   "cell_type": "code",
   "execution_count": 70,
   "metadata": {},
   "outputs": [
    {
     "name": "stdout",
     "output_type": "stream",
     "text": [
      "  5.471066 seconds (2.01 M allocations: 7.622 GiB, 6.45% gc time, 0.51% compilation time)\n"
     ]
    }
   ],
   "source": [
    "@time begin\n",
    "    comparison_emp_acf_theo_acf_t(autocorr9, \"autocorr9\", 4)\n",
    "end"
   ]
  },
  {
   "cell_type": "code",
   "execution_count": 71,
   "metadata": {},
   "outputs": [
    {
     "name": "stdout",
     "output_type": "stream",
     "text": [
      "  4.695529 seconds (1.71 M allocations: 6.388 GiB, 5.78% gc time, 0.59% compilation time)\n"
     ]
    }
   ],
   "source": [
    "@time begin\n",
    "    comparison_emp_acf_theo_acf_t(autocorr10, \"autocorr10\", 4)\n",
    "end"
   ]
  },
  {
   "cell_type": "markdown",
   "metadata": {},
   "source": [
    "### Dla rozkładu t-studenta z 20 stopniami swobody"
   ]
  },
  {
   "cell_type": "code",
   "execution_count": 72,
   "metadata": {},
   "outputs": [
    {
     "data": {
      "text/plain": [
       "comparison_emp_acf_theo_acf_t20 (generic function with 1 method)"
      ]
     },
     "metadata": {},
     "output_type": "display_data"
    }
   ],
   "source": [
    "function comparison_emp_acf_theo_acf_t20(acf, name, df)\n",
    "    for j in n\n",
    "        for k in 1:length(a)\n",
    "             for l in 1:length(p)\n",
    "                 Yt = [MA1_process_t_distribution(j, teta, df) + Zt(p[l], a[k], j) for i in 1:100]\n",
    "                 name == \"autocorr1\" ? emp_acf = [acf(Yt[i], [0, 5], 2.2191) for i in 1:length(Yt)] : (name == \"autocorr2\" ? emp_acf = [acf(Yt[i], [0, 5], 0.015) for i in 1:length(Yt)] : emp_acf = [acf(Yt[i], [0, 5]) for i in 1:length(Yt)])\n",
    "                 emp_acf = mean(emp_acf)\n",
    "                 global text = \"\"\n",
    "                 for i in emp_acf\n",
    "                     global text = text * string(i) * \"\\n\"\n",
    "                 end\n",
    "                 open(string(@__DIR__) * \"/dane/dla_modelu_t20/\" * name * \"_n\" * string(j) * \"_a\" * string(a[k]) * \"_p\" * string(p[l]) * \".txt\", \"w\") do f\n",
    "                     write(f, text)\n",
    "                 end\n",
    "             end\n",
    "         end\n",
    "     end\n",
    " end"
   ]
  },
  {
   "cell_type": "code",
   "execution_count": 73,
   "metadata": {},
   "outputs": [
    {
     "name": "stdout",
     "output_type": "stream",
     "text": [
      "  1.164260 seconds (1.10 M allocations: 3.014 GiB, 12.45% gc time, 6.54% compilation time)\n"
     ]
    }
   ],
   "source": [
    "@time begin\n",
    "    comparison_emp_acf_theo_acf_t20(autocorr, \"autocorr\", 20)\n",
    "end"
   ]
  },
  {
   "cell_type": "code",
   "execution_count": 74,
   "metadata": {},
   "outputs": [
    {
     "name": "stdout",
     "output_type": "stream",
     "text": [
      "3881.037213 seconds (4.80 M allocations: 1.151 TiB, 2.08% gc time, 0.00% compilation time)\n"
     ]
    }
   ],
   "source": [
    "@time begin\n",
    "    comparison_emp_acf_theo_acf_t20(autocorr1, \"autocorr1\", 20)\n",
    "end"
   ]
  },
  {
   "cell_type": "code",
   "execution_count": 75,
   "metadata": {},
   "outputs": [
    {
     "name": "stdout",
     "output_type": "stream",
     "text": [
      "2435.809778 seconds (284.05 M allocations: 1.659 TiB, 2.06% gc time, 0.00% compilation time)\n"
     ]
    }
   ],
   "source": [
    "@time begin\n",
    "    comparison_emp_acf_theo_acf_t20(autocorr2, \"autocorr2\", 20)\n",
    "end"
   ]
  },
  {
   "cell_type": "code",
   "execution_count": 76,
   "metadata": {},
   "outputs": [
    {
     "name": "stdout",
     "output_type": "stream",
     "text": [
      " 42.163106 seconds (376.35 k allocations: 907.812 MiB, 0.07% gc time, 0.08% compilation time)\n"
     ]
    }
   ],
   "source": [
    "@time begin\n",
    "    comparison_emp_acf_theo_acf_t20(autocorr3, \"autocorr3\", 20)\n",
    "end"
   ]
  },
  {
   "cell_type": "code",
   "execution_count": 77,
   "metadata": {},
   "outputs": [
    {
     "name": "stdout",
     "output_type": "stream",
     "text": [
      "  1.129966 seconds (502.35 k allocations: 1.399 GiB, 4.34% gc time, 3.64% compilation time)\n"
     ]
    }
   ],
   "source": [
    "@time begin\n",
    "    comparison_emp_acf_theo_acf_t20(autocorr4, \"autocorr4\", 20)\n",
    "end"
   ]
  },
  {
   "cell_type": "code",
   "execution_count": 78,
   "metadata": {},
   "outputs": [
    {
     "name": "stdout",
     "output_type": "stream",
     "text": [
      "190.028429 seconds (1.08 M allocations: 176.768 GiB, 5.89% gc time, 0.02% compilation time)\n"
     ]
    }
   ],
   "source": [
    "@time begin\n",
    "    comparison_emp_acf_theo_acf_t20(autocorr5, \"autocorr5\", 20)\n",
    "end"
   ]
  },
  {
   "cell_type": "code",
   "execution_count": 79,
   "metadata": {},
   "outputs": [
    {
     "name": "stdout",
     "output_type": "stream",
     "text": [
      "  0.892679 seconds (477.15 k allocations: 1.297 GiB, 8.48% gc time, 4.11% compilation time)\n"
     ]
    }
   ],
   "source": [
    "@time begin\n",
    "    comparison_emp_acf_theo_acf_t20(autocorr6, \"autocorr6\", 20)\n",
    "end"
   ]
  },
  {
   "cell_type": "code",
   "execution_count": 80,
   "metadata": {},
   "outputs": [
    {
     "name": "stdout",
     "output_type": "stream",
     "text": [
      "  5.490268 seconds (2.83 M allocations: 13.291 GiB, 9.00% gc time, 0.82% compilation time)\n"
     ]
    }
   ],
   "source": [
    "@time begin\n",
    "    comparison_emp_acf_theo_acf_t20(autocorr7, \"autocorr7\", 20)\n",
    "end"
   ]
  },
  {
   "cell_type": "code",
   "execution_count": 81,
   "metadata": {},
   "outputs": [
    {
     "name": "stdout",
     "output_type": "stream",
     "text": [
      "  1.646365 seconds (1.11 M allocations: 3.919 GiB, 13.18% gc time, 1.84% compilation time)\n"
     ]
    }
   ],
   "source": [
    "@time begin\n",
    "    comparison_emp_acf_theo_acf_t20(autocorr8, \"autocorr8\", 20)\n",
    "end"
   ]
  },
  {
   "cell_type": "code",
   "execution_count": 82,
   "metadata": {},
   "outputs": [
    {
     "name": "stdout",
     "output_type": "stream",
     "text": [
      "  5.584317 seconds (2.01 M allocations: 7.622 GiB, 6.78% gc time, 0.54% compilation time)\n"
     ]
    }
   ],
   "source": [
    "@time begin\n",
    "    comparison_emp_acf_theo_acf_t20(autocorr9, \"autocorr9\", 20)\n",
    "end"
   ]
  },
  {
   "cell_type": "code",
   "execution_count": 83,
   "metadata": {},
   "outputs": [
    {
     "name": "stdout",
     "output_type": "stream",
     "text": [
      "  4.740370 seconds (1.71 M allocations: 6.388 GiB, 6.33% gc time, 0.63% compilation time)\n"
     ]
    }
   ],
   "source": [
    "@time begin\n",
    "    comparison_emp_acf_theo_acf_t20(autocorr10, \"autocorr10\", 20)\n",
    "end"
   ]
  },
  {
   "cell_type": "markdown",
   "metadata": {},
   "source": [
    "## Dla zwykłego MA1 z ciągłym szumem"
   ]
  },
  {
   "cell_type": "code",
   "execution_count": 84,
   "id": "dcf3b2c6",
   "metadata": {},
   "outputs": [
    {
     "data": {
      "text/plain": [
       "3-element Vector{Float64}:\n",
       " 0.2\n",
       " 0.75\n",
       " 1.5"
      ]
     },
     "metadata": {},
     "output_type": "display_data"
    }
   ],
   "source": [
    "n = [100, 500, 1000]\n",
    "sigm = [0.2, 0.75, 1.5]"
   ]
  },
  {
   "cell_type": "code",
   "execution_count": 85,
   "metadata": {},
   "outputs": [
    {
     "data": {
      "text/plain": [
       "comparison_emp_acf_theo_acf_continous_noise (generic function with 1 method)"
      ]
     },
     "metadata": {},
     "output_type": "display_data"
    }
   ],
   "source": [
    "global teta = 0.5\n",
    "function comparison_emp_acf_theo_acf_continous_noise(acf, name)\n",
    "    for j in n\n",
    "        for k in sigm\n",
    "            Yt = [MA1_process(j, teta, 1) + rand(Normal(0, k), j) for i in 1:100]\n",
    "            name == \"autocorr1\" ? emp_acf = [acf(Yt[i], [0, 5], 2.2191) for i in 1:length(Yt)] : (name == \"autocorr2\" ? emp_acf = [acf(Yt[i], [0, 5], 0.015) for i in 1:length(Yt)] : emp_acf = [acf(Yt[i], [0, 5]) for i in 1:length(Yt)])\n",
    "            emp_acf = mean(emp_acf)\n",
    "            global text = \"\"\n",
    "            for i in emp_acf\n",
    "                global text = text * string(i) * \"\\n\"\n",
    "            end\n",
    "            open(string(@__DIR__) * \"/dane/dla_zwyklego_modelu_MA1_z_ciaglym_szumem/\" * name * \"_n\" * string(j) * \"_sigma\" * string(k) * \".txt\", \"w\") do f\n",
    "                write(f, text)\n",
    "            end\n",
    "         end\n",
    "     end\n",
    " end"
   ]
  },
  {
   "cell_type": "code",
   "execution_count": 86,
   "metadata": {},
   "outputs": [
    {
     "name": "stdout",
     "output_type": "stream",
     "text": [
      "  0.158599 seconds (285.58 k allocations: 231.935 MiB, 9.43% gc time, 62.03% compilation time)\n"
     ]
    }
   ],
   "source": [
    "@time begin\n",
    "    comparison_emp_acf_theo_acf_continous_noise(autocorr, \"autocorr\")\n",
    "end"
   ]
  },
  {
   "cell_type": "code",
   "execution_count": 87,
   "metadata": {},
   "outputs": [
    {
     "name": "stdout",
     "output_type": "stream",
     "text": [
      "283.770791 seconds (418.50 k allocations: 84.222 GiB, 1.86% gc time, 0.01% compilation time)\n"
     ]
    }
   ],
   "source": [
    "@time begin\n",
    "    comparison_emp_acf_theo_acf_continous_noise(autocorr1, \"autocorr1\")\n",
    "end"
   ]
  },
  {
   "cell_type": "code",
   "execution_count": 88,
   "metadata": {},
   "outputs": [
    {
     "name": "stdout",
     "output_type": "stream",
     "text": [
      "177.173518 seconds (20.37 M allocations: 121.315 GiB, 2.62% gc time, 0.02% compilation time)\n"
     ]
    }
   ],
   "source": [
    "@time begin\n",
    "    comparison_emp_acf_theo_acf_continous_noise(autocorr2, \"autocorr2\")\n",
    "end"
   ]
  },
  {
   "cell_type": "code",
   "execution_count": 89,
   "metadata": {},
   "outputs": [
    {
     "name": "stdout",
     "output_type": "stream",
     "text": [
      "  2.988686 seconds (102.52 k allocations: 69.046 MiB, 0.28% gc time, 1.14% compilation time)\n"
     ]
    }
   ],
   "source": [
    "@time begin\n",
    "    comparison_emp_acf_theo_acf_continous_noise(autocorr3, \"autocorr3\")\n",
    "end"
   ]
  },
  {
   "cell_type": "code",
   "execution_count": 90,
   "metadata": {},
   "outputs": [
    {
     "name": "stdout",
     "output_type": "stream",
     "text": [
      "  0.099692 seconds (111.52 k allocations: 106.527 MiB, 8.83% gc time, 34.03% compilation time)\n"
     ]
    }
   ],
   "source": [
    "@time begin\n",
    "    comparison_emp_acf_theo_acf_continous_noise(autocorr4, \"autocorr4\")\n",
    "end"
   ]
  },
  {
   "cell_type": "code",
   "execution_count": 91,
   "metadata": {},
   "outputs": [
    {
     "name": "stdout",
     "output_type": "stream",
     "text": [
      " 13.737132 seconds (152.08 k allocations: 12.630 GiB, 7.92% gc time, 0.22% compilation time)\n"
     ]
    }
   ],
   "source": [
    "@time begin\n",
    "    comparison_emp_acf_theo_acf_continous_noise(autocorr5, \"autocorr5\")\n",
    "end"
   ]
  },
  {
   "cell_type": "code",
   "execution_count": 92,
   "metadata": {},
   "outputs": [
    {
     "name": "stdout",
     "output_type": "stream",
     "text": [
      "  0.097232 seconds (109.72 k allocations: 99.038 MiB, 8.70% gc time, 35.23% compilation time)\n"
     ]
    }
   ],
   "source": [
    "@time begin\n",
    "    comparison_emp_acf_theo_acf_continous_noise(autocorr6, \"autocorr6\")\n",
    "end"
   ]
  },
  {
   "cell_type": "code",
   "execution_count": 93,
   "metadata": {},
   "outputs": [
    {
     "name": "stdout",
     "output_type": "stream",
     "text": [
      "  0.411003 seconds (277.20 k allocations: 976.360 MiB, 11.36% gc time, 9.03% compilation time)\n"
     ]
    }
   ],
   "source": [
    "@time begin\n",
    "    comparison_emp_acf_theo_acf_continous_noise(autocorr7, \"autocorr7\")\n",
    "end"
   ]
  },
  {
   "cell_type": "code",
   "execution_count": 94,
   "metadata": {},
   "outputs": [
    {
     "name": "stdout",
     "output_type": "stream",
     "text": [
      "  0.140496 seconds (153.81 k allocations: 290.852 MiB, 16.97% gc time, 31.59% compilation time)\n"
     ]
    }
   ],
   "source": [
    "@time begin\n",
    "    comparison_emp_acf_theo_acf_continous_noise(autocorr8, \"autocorr8\")\n",
    "end"
   ]
  },
  {
   "cell_type": "code",
   "execution_count": 95,
   "metadata": {},
   "outputs": [
    {
     "name": "stdout",
     "output_type": "stream",
     "text": [
      "  0.421598 seconds (218.62 k allocations: 561.721 MiB, 6.96% gc time, 9.21% compilation time)\n"
     ]
    }
   ],
   "source": [
    "@time begin\n",
    "    comparison_emp_acf_theo_acf_continous_noise(autocorr9, \"autocorr9\")\n",
    "end"
   ]
  },
  {
   "cell_type": "code",
   "execution_count": 96,
   "metadata": {},
   "outputs": [
    {
     "name": "stdout",
     "output_type": "stream",
     "text": [
      "  0.333696 seconds (197.01 k allocations: 471.430 MiB, 6.75% gc time, 9.02% compilation time)\n"
     ]
    }
   ],
   "source": [
    "@time begin\n",
    "    comparison_emp_acf_theo_acf_continous_noise(autocorr10, \"autocorr10\")\n",
    "end"
   ]
  },
  {
   "cell_type": "markdown",
   "metadata": {},
   "source": [
    "### Dla ARMA z dodanym szumem ciągłym"
   ]
  },
  {
   "cell_type": "code",
   "execution_count": 97,
   "metadata": {},
   "outputs": [
    {
     "data": {
      "text/plain": [
       "comparison_emp_acf_theo_acf_ARMA44_continous_noise (generic function with 1 method)"
      ]
     },
     "metadata": {},
     "output_type": "display_data"
    }
   ],
   "source": [
    "ar4 = np.array([1, 0.33, 0.5, 0.86, 0.34])\n",
    "ma4 = np.array([1, 0.9, 0.3, 0.12, 0.94])\n",
    "global teta = 0.5\n",
    "function comparison_emp_acf_theo_acf_ARMA44_continous_noise(acf, name)\n",
    "    for j in n\n",
    "        for k in sigm\n",
    "            Yt = [arma_pack.ArmaProcess(ar4, ma4).generate_sample(nsample=j) + rand(Normal(0, k), j) for i in 1:100]\n",
    "            name == \"autocorr1\" ? emp_acf = [acf(Yt[i], [0, 5], 2.2191) for i in 1:length(Yt)] : (name == \"autocorr2\" ? emp_acf = [acf(Yt[i], [0, 5], 0.015) for i in 1:length(Yt)] : emp_acf = [acf(Yt[i], [0, 5]) for i in 1:length(Yt)])\n",
    "            emp_acf = mean(emp_acf)\n",
    "            global text = \"\"\n",
    "            for i in emp_acf\n",
    "                global text = text * string(i) * \"\\n\"\n",
    "            end\n",
    "            open(string(@__DIR__) * \"/dane/dla_modelu_arma44_z_ciaglym_szumem/\" * name * \"_n\" * string(j) * \"_sigma\" * string(k) * \".txt\", \"w\") do f\n",
    "                write(f, text)\n",
    "            end\n",
    "         end\n",
    "     end\n",
    " end"
   ]
  },
  {
   "cell_type": "code",
   "execution_count": 98,
   "metadata": {},
   "outputs": [
    {
     "name": "stdout",
     "output_type": "stream",
     "text": [
      "  0.226744 seconds (293.71 k allocations: 228.321 MiB, 8.31% gc time, 41.71% compilation time)\n"
     ]
    }
   ],
   "source": [
    "@time begin\n",
    "    comparison_emp_acf_theo_acf_ARMA44_continous_noise(autocorr, \"autocorr\")\n",
    "end"
   ]
  },
  {
   "cell_type": "code",
   "execution_count": 99,
   "metadata": {},
   "outputs": [
    {
     "name": "stdout",
     "output_type": "stream",
     "text": [
      "249.964296 seconds (467.71 k allocations: 84.220 GiB, 2.26% gc time, 0.01% compilation time)\n"
     ]
    }
   ],
   "source": [
    "@time begin\n",
    "    comparison_emp_acf_theo_acf_ARMA44_continous_noise(autocorr1, \"autocorr1\")\n",
    "end"
   ]
  },
  {
   "cell_type": "code",
   "execution_count": 100,
   "metadata": {},
   "outputs": [
    {
     "name": "stdout",
     "output_type": "stream",
     "text": [
      "140.437438 seconds (20.42 M allocations: 121.313 GiB, 3.31% gc time, 0.02% compilation time)\n"
     ]
    }
   ],
   "source": [
    "@time begin\n",
    "    comparison_emp_acf_theo_acf_ARMA44_continous_noise(autocorr2, \"autocorr2\")\n",
    "end"
   ]
  },
  {
   "cell_type": "code",
   "execution_count": 101,
   "metadata": {},
   "outputs": [
    {
     "name": "stdout",
     "output_type": "stream",
     "text": [
      "  3.069663 seconds (151.73 k allocations: 67.747 MiB, 0.23% gc time, 1.36% compilation time)\n"
     ]
    }
   ],
   "source": [
    "@time begin\n",
    "    comparison_emp_acf_theo_acf_ARMA44_continous_noise(autocorr3, \"autocorr3\")\n",
    "end"
   ]
  },
  {
   "cell_type": "code",
   "execution_count": 102,
   "metadata": {},
   "outputs": [
    {
     "name": "stdout",
     "output_type": "stream",
     "text": [
      "  0.155700 seconds (160.72 k allocations: 105.162 MiB, 5.01% gc time, 21.53% compilation time)\n"
     ]
    }
   ],
   "source": [
    "@time begin\n",
    "    comparison_emp_acf_theo_acf_ARMA44_continous_noise(autocorr4, \"autocorr4\")\n",
    "end"
   ]
  },
  {
   "cell_type": "code",
   "execution_count": 103,
   "metadata": {},
   "outputs": [
    {
     "name": "stdout",
     "output_type": "stream",
     "text": [
      " 13.611272 seconds (201.30 k allocations: 12.629 GiB, 5.99% gc time, 0.23% compilation time)\n"
     ]
    }
   ],
   "source": [
    "@time begin\n",
    "    comparison_emp_acf_theo_acf_ARMA44_continous_noise(autocorr5, \"autocorr5\")\n",
    "end"
   ]
  },
  {
   "cell_type": "code",
   "execution_count": 104,
   "metadata": {},
   "outputs": [
    {
     "name": "stdout",
     "output_type": "stream",
     "text": [
      "  0.143701 seconds (158.94 k allocations: 97.763 MiB, 5.70% gc time, 23.59% compilation time)\n"
     ]
    }
   ],
   "source": [
    "@time begin\n",
    "    comparison_emp_acf_theo_acf_ARMA44_continous_noise(autocorr6, \"autocorr6\")\n",
    "end"
   ]
  },
  {
   "cell_type": "code",
   "execution_count": 105,
   "metadata": {},
   "outputs": [
    {
     "name": "stdout",
     "output_type": "stream",
     "text": [
      "  0.445863 seconds (326.41 k allocations: 975.019 MiB, 10.36% gc time, 6.68% compilation time)\n"
     ]
    }
   ],
   "source": [
    "@time begin\n",
    "    comparison_emp_acf_theo_acf_ARMA44_continous_noise(autocorr7, \"autocorr7\")\n",
    "end"
   ]
  },
  {
   "cell_type": "code",
   "execution_count": 106,
   "metadata": {},
   "outputs": [
    {
     "name": "stdout",
     "output_type": "stream",
     "text": [
      "  0.219022 seconds (203.02 k allocations: 289.554 MiB, 10.52% gc time, 16.49% compilation time)\n"
     ]
    }
   ],
   "source": [
    "@time begin\n",
    "    comparison_emp_acf_theo_acf_ARMA44_continous_noise(autocorr8, \"autocorr8\")\n",
    "end"
   ]
  },
  {
   "cell_type": "code",
   "execution_count": 107,
   "metadata": {},
   "outputs": [
    {
     "name": "stdout",
     "output_type": "stream",
     "text": [
      "  0.376218 seconds (267.83 k allocations: 560.380 MiB, 7.89% gc time, 8.47% compilation time)\n"
     ]
    }
   ],
   "source": [
    "@time begin\n",
    "    comparison_emp_acf_theo_acf_ARMA44_continous_noise(autocorr9, \"autocorr9\")\n",
    "end"
   ]
  },
  {
   "cell_type": "code",
   "execution_count": 108,
   "metadata": {},
   "outputs": [
    {
     "name": "stdout",
     "output_type": "stream",
     "text": [
      "  0.405808 seconds (246.22 k allocations: 470.133 MiB, 9.52% gc time, 7.68% compilation time)\n"
     ]
    }
   ],
   "source": [
    "@time begin\n",
    "    comparison_emp_acf_theo_acf_ARMA44_continous_noise(autocorr10, \"autocorr10\")\n",
    "end"
   ]
  },
  {
   "cell_type": "markdown",
   "metadata": {},
   "source": [
    "### Dla rozkładu t-studenta z 4 stopniami swobody z ciągłym szumem"
   ]
  },
  {
   "cell_type": "code",
   "execution_count": 109,
   "metadata": {},
   "outputs": [
    {
     "data": {
      "text/plain": [
       "comparison_emp_acf_theo_acf_t_continous_noise (generic function with 1 method)"
      ]
     },
     "metadata": {},
     "output_type": "display_data"
    }
   ],
   "source": [
    "function comparison_emp_acf_theo_acf_t_continous_noise(acf, name, df)\n",
    "    for j in n\n",
    "        for k in sigm\n",
    "            Yt = [MA1_process_t_distribution(j, teta, df) + rand(Normal(0, k), j) for i in 1:100]\n",
    "            name == \"autocorr1\" ? emp_acf = [acf(Yt[i], [0, 5], 2.2191) for i in 1:length(Yt)] : (name == \"autocorr2\" ? emp_acf = [acf(Yt[i], [0, 5], 0.015) for i in 1:length(Yt)] : emp_acf = [acf(Yt[i], [0, 5]) for i in 1:length(Yt)])\n",
    "            emp_acf = mean(emp_acf)\n",
    "            global text = \"\"\n",
    "            for i in emp_acf\n",
    "                global text = text * string(i) * \"\\n\"\n",
    "            end\n",
    "            open(string(@__DIR__) * \"/dane/dla_modelu_t4_z_ciaglym_szumem/\" * name * \"_n\" * string(j) * \"_sigma\" * string(k) * \".txt\", \"w\") do f\n",
    "                write(f, text)\n",
    "            end\n",
    "         end\n",
    "     end\n",
    " end"
   ]
  },
  {
   "cell_type": "code",
   "execution_count": 110,
   "metadata": {},
   "outputs": [
    {
     "name": "stdout",
     "output_type": "stream",
     "text": [
      "  0.185495 seconds (243.08 k allocations: 229.544 MiB, 11.14% gc time, 48.92% compilation time)\n"
     ]
    }
   ],
   "source": [
    "@time begin\n",
    "    comparison_emp_acf_theo_acf_t_continous_noise(autocorr, \"autocorr\", 4)\n",
    "end"
   ]
  },
  {
   "cell_type": "code",
   "execution_count": 111,
   "metadata": {},
   "outputs": [
    {
     "name": "stdout",
     "output_type": "stream",
     "text": [
      "280.313600 seconds (418.50 k allocations: 84.222 GiB, 2.02% gc time, 0.01% compilation time)\n"
     ]
    }
   ],
   "source": [
    "@time begin\n",
    "    comparison_emp_acf_theo_acf_t_continous_noise(autocorr1, \"autocorr1\", 4)\n",
    "end"
   ]
  },
  {
   "cell_type": "code",
   "execution_count": 112,
   "metadata": {},
   "outputs": [
    {
     "name": "stdout",
     "output_type": "stream",
     "text": [
      "175.625478 seconds (20.37 M allocations: 121.315 GiB, 2.64% gc time, 0.02% compilation time)\n"
     ]
    }
   ],
   "source": [
    "@time begin\n",
    "    comparison_emp_acf_theo_acf_t_continous_noise(autocorr2, \"autocorr2\", 4)\n",
    "end"
   ]
  },
  {
   "cell_type": "code",
   "execution_count": 113,
   "metadata": {},
   "outputs": [
    {
     "name": "stdout",
     "output_type": "stream",
     "text": [
      "  3.015468 seconds (102.52 k allocations: 69.045 MiB, 0.22% gc time, 1.11% compilation time)\n"
     ]
    }
   ],
   "source": [
    "@time begin\n",
    "    comparison_emp_acf_theo_acf_t_continous_noise(autocorr3, \"autocorr3\", 4)\n",
    "end"
   ]
  },
  {
   "cell_type": "code",
   "execution_count": 114,
   "metadata": {},
   "outputs": [
    {
     "name": "stdout",
     "output_type": "stream",
     "text": [
      "  0.129031 seconds (111.52 k allocations: 106.526 MiB, 5.38% gc time, 27.41% compilation time)\n"
     ]
    }
   ],
   "source": [
    "@time begin\n",
    "    comparison_emp_acf_theo_acf_t_continous_noise(autocorr4, \"autocorr4\", 4)\n",
    "end"
   ]
  },
  {
   "cell_type": "code",
   "execution_count": 115,
   "metadata": {},
   "outputs": [
    {
     "name": "stdout",
     "output_type": "stream",
     "text": [
      " 13.602147 seconds (152.08 k allocations: 12.630 GiB, 5.99% gc time, 0.23% compilation time)\n"
     ]
    }
   ],
   "source": [
    "@time begin\n",
    "    comparison_emp_acf_theo_acf_t_continous_noise(autocorr5, \"autocorr5\", 4)\n",
    "end"
   ]
  },
  {
   "cell_type": "code",
   "execution_count": 116,
   "metadata": {},
   "outputs": [
    {
     "name": "stdout",
     "output_type": "stream",
     "text": [
      "  0.100173 seconds (109.72 k allocations: 99.037 MiB, 10.46% gc time, 33.77% compilation time)\n"
     ]
    }
   ],
   "source": [
    "@time begin\n",
    "    comparison_emp_acf_theo_acf_t_continous_noise(autocorr6, \"autocorr6\", 4)\n",
    "end"
   ]
  },
  {
   "cell_type": "code",
   "execution_count": 117,
   "metadata": {},
   "outputs": [],
   "source": [
    "@time begin\n",
    "    comparison_emp_acf_theo_acf_t_continous_noise(autocorr7, \"autocorr7\", 4)\n",
    "end"
   ]
  },
  {
   "cell_type": "code",
   "execution_count": 118,
   "metadata": {},
   "outputs": [
    {
     "name": "stdout",
     "output_type": "stream",
     "text": [
      "  0.405335 seconds (277.20 k allocations: 976.360 MiB, 10.80% gc time, 7.84% compilation time)\n",
      "  0.199981 seconds (153.81 k allocations: 290.851 MiB, 17.73% gc time, 15.07% compilation time)\n"
     ]
    }
   ],
   "source": [
    "@time begin\n",
    "    comparison_emp_acf_theo_acf_t_continous_noise(autocorr8, \"autocorr8\", 4)\n",
    "end"
   ]
  },
  {
   "cell_type": "code",
   "execution_count": 119,
   "metadata": {},
   "outputs": [
    {
     "name": "stdout",
     "output_type": "stream",
     "text": [
      "  0.434219 seconds (218.62 k allocations: 561.721 MiB, 6.99% gc time, 8.72% compilation time)\n"
     ]
    }
   ],
   "source": [
    "@time begin\n",
    "    comparison_emp_acf_theo_acf_t_continous_noise(autocorr9, \"autocorr9\", 4)\n",
    "end"
   ]
  },
  {
   "cell_type": "code",
   "execution_count": 120,
   "metadata": {},
   "outputs": [
    {
     "name": "stdout",
     "output_type": "stream",
     "text": [
      "  0.365159 seconds (197.01 k allocations: 471.430 MiB, 6.71% gc time, 8.21% compilation time)\n"
     ]
    }
   ],
   "source": [
    "@time begin\n",
    "    comparison_emp_acf_theo_acf_t_continous_noise(autocorr10, \"autocorr10\", 4)\n",
    "end"
   ]
  },
  {
   "cell_type": "markdown",
   "metadata": {},
   "source": [
    "### Dla rozkładu t-studenta z 20 stopniami swobody z ciaglym szumem"
   ]
  },
  {
   "cell_type": "code",
   "execution_count": 121,
   "metadata": {},
   "outputs": [
    {
     "data": {
      "text/plain": [
       "comparison_emp_acf_theo_acf_t20_continous_noise (generic function with 1 method)"
      ]
     },
     "metadata": {},
     "output_type": "display_data"
    }
   ],
   "source": [
    "function comparison_emp_acf_theo_acf_t20_continous_noise(acf, name, df)\n",
    "    for j in n\n",
    "        for k in sigm\n",
    "            Yt = [MA1_process_t_distribution(j, teta, df) + rand(Normal(0, k), j) for i in 1:100]\n",
    "            name == \"autocorr1\" ? emp_acf = [acf(Yt[i], [0, 5], 2.2191) for i in 1:length(Yt)] : (name == \"autocorr2\" ? emp_acf = [acf(Yt[i], [0, 5], 0.015) for i in 1:length(Yt)] : emp_acf = [acf(Yt[i], [0, 5]) for i in 1:length(Yt)])\n",
    "            emp_acf = mean(emp_acf)\n",
    "            global text = \"\"\n",
    "            for i in emp_acf\n",
    "                global text = text * string(i) * \"\\n\"\n",
    "            end\n",
    "            open(string(@__DIR__) * \"/dane/dla_modelu_t20_z_ciaglym_szumem/\" * name * \"_n\" * string(j) * \"_sigma\" * string(k) * \".txt\", \"w\") do f\n",
    "                write(f, text)\n",
    "            end\n",
    "         end\n",
    "     end\n",
    " end"
   ]
  },
  {
   "cell_type": "code",
   "execution_count": 122,
   "metadata": {},
   "outputs": [
    {
     "name": "stdout",
     "output_type": "stream",
     "text": [
      "  0.180639 seconds (243.08 k allocations: 229.564 MiB, 11.37% gc time, 50.83% compilation time)\n"
     ]
    }
   ],
   "source": [
    "@time begin\n",
    "    comparison_emp_acf_theo_acf_t20_continous_noise(autocorr, \"autocorr\", 20)\n",
    "end"
   ]
  },
  {
   "cell_type": "code",
   "execution_count": 123,
   "metadata": {},
   "outputs": [
    {
     "name": "stdout",
     "output_type": "stream",
     "text": [
      "283.184290 seconds (418.50 k allocations: 84.222 GiB, 1.99% gc time, 0.01% compilation time)\n"
     ]
    }
   ],
   "source": [
    "@time begin\n",
    "    comparison_emp_acf_theo_acf_t20_continous_noise(autocorr1, \"autocorr1\", 20)\n",
    "end"
   ]
  },
  {
   "cell_type": "code",
   "execution_count": 124,
   "metadata": {},
   "outputs": [
    {
     "name": "stdout",
     "output_type": "stream",
     "text": [
      "179.225871 seconds (20.37 M allocations: 121.315 GiB, 2.56% gc time, 0.02% compilation time)\n"
     ]
    }
   ],
   "source": [
    "@time begin\n",
    "    comparison_emp_acf_theo_acf_t20_continous_noise(autocorr2, \"autocorr2\", 20)\n",
    "end"
   ]
  },
  {
   "cell_type": "code",
   "execution_count": 125,
   "metadata": {},
   "outputs": [
    {
     "name": "stdout",
     "output_type": "stream",
     "text": [
      "  3.052983 seconds (102.52 k allocations: 69.045 MiB, 0.22% gc time, 1.31% compilation time)\n"
     ]
    }
   ],
   "source": [
    "@time begin\n",
    "    comparison_emp_acf_theo_acf_t20_continous_noise(autocorr3, \"autocorr3\", 20)\n",
    "end"
   ]
  },
  {
   "cell_type": "code",
   "execution_count": 126,
   "metadata": {},
   "outputs": [
    {
     "name": "stdout",
     "output_type": "stream",
     "text": [
      "  0.118565 seconds (111.52 k allocations: 106.530 MiB, 5.99% gc time, 29.49% compilation time)\n"
     ]
    }
   ],
   "source": [
    "@time begin\n",
    "    comparison_emp_acf_theo_acf_t20_continous_noise(autocorr4, \"autocorr4\", 20)\n",
    "end"
   ]
  },
  {
   "cell_type": "code",
   "execution_count": 127,
   "metadata": {},
   "outputs": [
    {
     "name": "stdout",
     "output_type": "stream",
     "text": [
      " 13.670483 seconds (152.08 k allocations: 12.630 GiB, 5.81% gc time, 0.24% compilation time)\n"
     ]
    }
   ],
   "source": [
    "@time begin\n",
    "    comparison_emp_acf_theo_acf_t20_continous_noise(autocorr5, \"autocorr5\", 20)\n",
    "end"
   ]
  },
  {
   "cell_type": "code",
   "execution_count": 128,
   "metadata": {},
   "outputs": [
    {
     "name": "stdout",
     "output_type": "stream",
     "text": [
      "  0.107328 seconds (109.72 k allocations: 99.048 MiB, 10.22% gc time, 31.30% compilation time)\n"
     ]
    }
   ],
   "source": [
    "@time begin\n",
    "    comparison_emp_acf_theo_acf_t20_continous_noise(autocorr6, \"autocorr6\", 20)\n",
    "end"
   ]
  },
  {
   "cell_type": "code",
   "execution_count": 129,
   "metadata": {},
   "outputs": [
    {
     "name": "stdout",
     "output_type": "stream",
     "text": [
      "  0.412085 seconds (277.20 k allocations: 976.360 MiB, 11.08% gc time, 7.47% compilation time)\n"
     ]
    }
   ],
   "source": [
    "@time begin\n",
    "    comparison_emp_acf_theo_acf_t20_continous_noise(autocorr7, \"autocorr7\", 20)\n",
    "end"
   ]
  },
  {
   "cell_type": "code",
   "execution_count": 130,
   "metadata": {},
   "outputs": [
    {
     "name": "stdout",
     "output_type": "stream",
     "text": [
      "  0.141956 seconds (153.81 k allocations: 290.851 MiB, 10.68% gc time, 21.95% compilation time)\n"
     ]
    }
   ],
   "source": [
    "@time begin\n",
    "    comparison_emp_acf_theo_acf_t20_continous_noise(autocorr8, \"autocorr8\", 20)\n",
    "end"
   ]
  },
  {
   "cell_type": "code",
   "execution_count": 131,
   "metadata": {},
   "outputs": [
    {
     "name": "stdout",
     "output_type": "stream",
     "text": [
      "  0.447078 seconds (218.62 k allocations: 561.724 MiB, 8.12% gc time, 8.81% compilation time)\n"
     ]
    }
   ],
   "source": [
    "@time begin\n",
    "    comparison_emp_acf_theo_acf_t20_continous_noise(autocorr9, \"autocorr9\", 20)\n",
    "end"
   ]
  },
  {
   "cell_type": "code",
   "execution_count": 132,
   "metadata": {},
   "outputs": [
    {
     "name": "stdout",
     "output_type": "stream",
     "text": [
      "  0.358292 seconds (197.01 k allocations: 471.430 MiB, 6.48% gc time, 8.51% compilation time)\n"
     ]
    }
   ],
   "source": [
    "@time begin\n",
    "    comparison_emp_acf_theo_acf_t20_continous_noise(autocorr10, \"autocorr10\", 20)\n",
    "end"
   ]
  },
  {
   "cell_type": "code",
   "execution_count": 133,
   "metadata": {},
   "outputs": [],
   "source": []
  }
 ],
 "metadata": {
  "hide_input": false,
  "kernelspec": {
   "display_name": "Julia 1.7.2",
   "language": "julia",
   "name": "julia-1.7"
  },
  "language_info": {
   "file_extension": ".jl",
   "mimetype": "application/julia",
   "name": "julia",
   "version": "1.7.2"
  }
 },
 "nbformat": 4,
 "nbformat_minor": 5
}
