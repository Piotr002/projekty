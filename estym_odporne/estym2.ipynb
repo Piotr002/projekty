{
 "cells": [
  {
   "cell_type": "code",
   "execution_count": 2,
   "metadata": {
    "collapsed": true
   },
   "outputs": [],
   "source": [
    "import scipy.special as ssp\n",
    "import numpy as np\n",
    "import matplotlib.pyplot as plt\n",
    "import scipy.stats as ss\n",
    "from pylab import *\n",
    "import random as rnd\n",
    "from numba import jit\n",
    "from statistics import NormalDist\n",
    "\n",
    "from statsmodels.tsa.arima_process import ArmaProcess"
   ]
  },
  {
   "cell_type": "code",
   "execution_count": 2,
   "outputs": [],
   "source": [
    "@jit(nopython=True)\n",
    "def zt(p, zt, n):\n",
    "    return np.array(\n",
    "    [0 if i > 2 * p else (float(zt) if i < p else float(-zt)) for i in [rnd.random() for i in range(n)]])"
   ],
   "metadata": {
    "collapsed": false,
    "pycharm": {
     "name": "#%%\n"
    }
   }
  },
  {
   "cell_type": "code",
   "execution_count": 3,
   "outputs": [],
   "source": [
    "@jit(nopython=True)\n",
    "def autocov(X, lag):\n",
    "    return np.array([1 / len(X) * (np.sum((X[:len(X) - i] - np.mean(X)) * (X[i:] - np.mean(X)))) for i in range(lag[0], lag[1] + 1)])"
   ],
   "metadata": {
    "collapsed": false,
    "pycharm": {
     "name": "#%%\n"
    }
   }
  },
  {
   "cell_type": "code",
   "execution_count": 4,
   "outputs": [],
   "source": [
    "@jit(nopython=True)\n",
    "def autocorr(X, lag):\n",
    "    return np.array([i / autocov(X, [0, 1])[0] for i in autocov(X, lag)])"
   ],
   "metadata": {
    "collapsed": false,
    "pycharm": {
     "name": "#%%\n"
    }
   }
  },
  {
   "cell_type": "code",
   "execution_count": 5,
   "outputs": [],
   "source": [
    "@jit(nopython=True)\n",
    "def binom(n, k):\n",
    "    k = k if k > n/2 else n-k\n",
    "    n = np.arange(k + 1, n + 1, 1)\n",
    "    k = np.arange(1, n[-1] - k + 1, 1)\n",
    "    return np.prod(n)/np.prod(k)"
   ],
   "metadata": {
    "collapsed": false,
    "pycharm": {
     "name": "#%%\n"
    }
   }
  },
  {
   "cell_type": "code",
   "execution_count": 6,
   "outputs": [
    {
     "data": {
      "text/plain": "499500.0"
     },
     "execution_count": 6,
     "metadata": {},
     "output_type": "execute_result"
    }
   ],
   "source": [
    "binom(1000, 2)"
   ],
   "metadata": {
    "collapsed": false,
    "pycharm": {
     "name": "#%%\n"
    }
   }
  },
  {
   "cell_type": "code",
   "execution_count": 7,
   "outputs": [],
   "source": [
    "@jit(nopython=True)\n",
    "def Q(X, k):\n",
    "    values = np.array([abs(X[j] - X[i]) for i in range(len(X)) for j in range(i)])\n",
    "    values = np.array(sorted(values))\n",
    "    return k * values[int(np.floor((binom(len(X), 2) + 2) / 4))]"
   ],
   "metadata": {
    "collapsed": false,
    "pycharm": {
     "name": "#%%\n"
    }
   }
  },
  {
   "cell_type": "code",
   "execution_count": 8,
   "outputs": [
    {
     "data": {
      "text/plain": "0.28628568053052755"
     },
     "execution_count": 8,
     "metadata": {},
     "output_type": "execute_result"
    }
   ],
   "source": [
    "Q(np.array([rnd.random() for i in range(100)]), 2.11)"
   ],
   "metadata": {
    "collapsed": false,
    "pycharm": {
     "name": "#%%\n"
    }
   }
  },
  {
   "cell_type": "code",
   "execution_count": 9,
   "outputs": [],
   "source": [
    "@jit(nopython=True)\n",
    "def autocov1(X, lag, k):\n",
    "    acvf = []\n",
    "    for h in range(lag[0], lag[1] + 1):\n",
    "        if h == 0:\n",
    "            u = X\n",
    "        else:\n",
    "            u = X[:-h]\n",
    "        v = X[h:]\n",
    "        acvf.append(1 / 4 * ((Q(u + v, k)) ** 2 - (Q(u - v, k)) ** 2))\n",
    "    return np.array(acvf)"
   ],
   "metadata": {
    "collapsed": false,
    "pycharm": {
     "name": "#%%\n"
    }
   }
  },
  {
   "cell_type": "code",
   "execution_count": 10,
   "outputs": [
    {
     "data": {
      "text/plain": "array([ 0.0811557 ,  0.01573544,  0.00197485, -0.01572118, -0.01436024,\n        0.00741606])"
     },
     "execution_count": 10,
     "metadata": {},
     "output_type": "execute_result"
    }
   ],
   "source": [
    "autocov1(np.array([rnd.random() for i in range(100)]), np.array([0, 5]),2.11)"
   ],
   "metadata": {
    "collapsed": false,
    "pycharm": {
     "name": "#%%\n"
    }
   }
  },
  {
   "cell_type": "code",
   "execution_count": 11,
   "outputs": [],
   "source": [
    "@jit(nopython=True)\n",
    "def autocorr1(X, lag, k):\n",
    "    acf = []\n",
    "    for h in range(lag[0], lag[1] + 1):\n",
    "        if h == 0:\n",
    "            u = X\n",
    "        else:\n",
    "            u = X[:-h]\n",
    "        v = X[h:]\n",
    "        acf.append(((Q(u + v, k)) ** 2 - (Q(u - v, k)) ** 2) / ((Q(u + v, k)) ** 2 + (Q(u - v, k)) ** 2))\n",
    "    return acf"
   ],
   "metadata": {
    "collapsed": false,
    "pycharm": {
     "name": "#%%\n"
    }
   }
  },
  {
   "cell_type": "code",
   "execution_count": 12,
   "outputs": [
    {
     "data": {
      "text/plain": "[1.0,\n -0.21570375292232433,\n 0.03544259167915104,\n -0.09201494788608806,\n -0.016209361293102555,\n -0.03357526737292587]"
     },
     "execution_count": 12,
     "metadata": {},
     "output_type": "execute_result"
    }
   ],
   "source": [
    "autocorr1(np.array([rnd.random() for i in range(100)]), np.array([0, 5]),2.11)"
   ],
   "metadata": {
    "collapsed": false,
    "pycharm": {
     "name": "#%%\n"
    }
   }
  },
  {
   "cell_type": "code",
   "execution_count": 13,
   "outputs": [],
   "source": [
    "@jit(nopython=True)\n",
    "def g(alfa, n):\n",
    "    return int(floor(n * alfa))"
   ],
   "metadata": {
    "collapsed": false,
    "pycharm": {
     "name": "#%%\n"
    }
   }
  },
  {
   "cell_type": "code",
   "execution_count": 14,
   "outputs": [],
   "source": [
    "@jit(nopython=True)\n",
    "def L(X, t, alfa):\n",
    "    Y = np.array(sorted(X))\n",
    "    n = len(X)\n",
    "    _g = g(alfa, n)\n",
    "    if Y[_g] < X[t] and X[t] < Y[n - _g]:\n",
    "        return 1\n",
    "    return 0"
   ],
   "metadata": {
    "collapsed": false,
    "pycharm": {
     "name": "#%%\n"
    }
   }
  },
  {
   "cell_type": "code",
   "execution_count": 15,
   "outputs": [
    {
     "data": {
      "text/plain": "1"
     },
     "execution_count": 15,
     "metadata": {},
     "output_type": "execute_result"
    }
   ],
   "source": [
    "L(np.array([rnd.random() for i in range(100)]), 5,0.015)"
   ],
   "metadata": {
    "collapsed": false,
    "pycharm": {
     "name": "#%%\n"
    }
   }
  },
  {
   "cell_type": "code",
   "execution_count": 16,
   "outputs": [],
   "source": [
    "@jit(nopython=True)\n",
    "def mean_X(X, alfa):\n",
    "    suma1 = np.sum(np.array([L(X, i, alfa) for i in range(len(X))]))\n",
    "    suma2 = np.sum(np.array([X[i] * L(X, i, alfa) for i in range(len(X))]))\n",
    "    return 1 / suma1 * suma2"
   ],
   "metadata": {
    "collapsed": false,
    "pycharm": {
     "name": "#%%\n"
    }
   }
  },
  {
   "cell_type": "code",
   "execution_count": 17,
   "outputs": [
    {
     "data": {
      "text/plain": "0.49406003632961054"
     },
     "execution_count": 17,
     "metadata": {},
     "output_type": "execute_result"
    }
   ],
   "source": [
    "mean_X(np.array([rnd.random() for i in range(100)]),0.015)"
   ],
   "metadata": {
    "collapsed": false,
    "pycharm": {
     "name": "#%%\n"
    }
   }
  },
  {
   "cell_type": "code",
   "execution_count": 18,
   "outputs": [],
   "source": [
    "@jit(nopython=True)\n",
    "def autocov2(X, lag, alfa):\n",
    "    n = len(X)\n",
    "    L_vector = np.array([L(X, i, alfa) for i in range(n)])\n",
    "    acvf = []\n",
    "    for h in range(lag[0], lag[1] + 1):\n",
    "        if h == 0:\n",
    "            suma1 = np.sum(L_vector)\n",
    "            suma2 = np.sum(X ** 2 * L_vector)\n",
    "        else:\n",
    "            suma1 = np.sum(L_vector[:-h] * L_vector[h:])\n",
    "            suma2 = np.sum(X[:-h] - mean_X(X, alfa) * X[h:] - mean_X(X, alfa) *\n",
    "                L_vector[:-h] * L_vector[h:])\n",
    "        acvf.append(suma2 / suma1)\n",
    "    return np.array(acvf)"
   ],
   "metadata": {
    "collapsed": false,
    "pycharm": {
     "name": "#%%\n"
    }
   }
  },
  {
   "cell_type": "code",
   "execution_count": 19,
   "outputs": [
    {
     "data": {
      "text/plain": "array([ 0.28725466, -0.19348722, -0.19228444, -0.19048914, -0.19640445,\n       -0.20092154])"
     },
     "execution_count": 19,
     "metadata": {},
     "output_type": "execute_result"
    }
   ],
   "source": [
    "autocov2(np.array([rnd.random() for i in range(100)]), np.array([0,5]),0.015)"
   ],
   "metadata": {
    "collapsed": false,
    "pycharm": {
     "name": "#%%\n"
    }
   }
  },
  {
   "cell_type": "code",
   "execution_count": 20,
   "outputs": [],
   "source": [
    "@jit(nopython=True)\n",
    "def autocorr2(X, lag, alfa):\n",
    "    acvf = autocov2(X, lag, alfa)[0]\n",
    "    return np.array([i / acvf for i in autocov2(X, lag, alfa)])"
   ],
   "metadata": {
    "collapsed": false,
    "pycharm": {
     "name": "#%%\n"
    }
   }
  },
  {
   "cell_type": "code",
   "execution_count": 21,
   "outputs": [
    {
     "data": {
      "text/plain": "array([ 1.        , -0.81017367, -0.82226007, -0.82359716, -0.82863895,\n       -0.82097026])"
     },
     "execution_count": 21,
     "metadata": {},
     "output_type": "execute_result"
    }
   ],
   "source": [
    "autocorr2(np.array([rnd.random() for i in range(100)]), np.array([0,5]),0.015)"
   ],
   "metadata": {
    "collapsed": false,
    "pycharm": {
     "name": "#%%\n"
    }
   }
  },
  {
   "cell_type": "code",
   "execution_count": 22,
   "outputs": [],
   "source": [
    "@jit(nopython=True)\n",
    "def autocorr4(X, lag):\n",
    "    X = X - np.mean(X)\n",
    "    acf = [1.0]\n",
    "    denominator = np.median(np.array([i**2 for i in X]))\n",
    "    for h in range(lag[0] + 1, lag[1] + 1):\n",
    "        acf.append(np.median(X[:-h] * X[h:])/denominator)\n",
    "    return acf"
   ],
   "metadata": {
    "collapsed": false,
    "pycharm": {
     "name": "#%%\n"
    }
   }
  },
  {
   "cell_type": "code",
   "execution_count": 23,
   "outputs": [
    {
     "data": {
      "text/plain": "[1.0,\n 0.0891280340062436,\n 0.0032869993003648576,\n -0.016158662483720145,\n -0.011590271498981494,\n 0.038491195065703455]"
     },
     "execution_count": 23,
     "metadata": {},
     "output_type": "execute_result"
    }
   ],
   "source": [
    "autocorr4(np.array([rnd.random() for i in range(100)]), np.array([0,5]))"
   ],
   "metadata": {
    "collapsed": false,
    "pycharm": {
     "name": "#%%\n"
    }
   }
  },
  {
   "cell_type": "code",
   "execution_count": 30,
   "outputs": [],
   "source": [
    "@jit\n",
    "def J(x):\n",
    "    return float(NormalDist().inv_cdf(x))"
   ],
   "metadata": {
    "collapsed": false,
    "pycharm": {
     "name": "#%%\n"
    }
   }
  },
  {
   "cell_type": "code",
   "execution_count": 31,
   "outputs": [
    {
     "name": "stderr",
     "output_type": "stream",
     "text": [
      "C:\\Users\\piter\\AppData\\Local\\Temp/ipykernel_33476/1169055119.py:1: NumbaWarning: \u001B[1m\n",
      "Compilation is falling back to object mode WITH looplifting enabled because Function \"J\" failed type inference due to: \u001B[1mUntyped global name 'NormalDist':\u001B[0m \u001B[1m\u001B[1mCannot determine Numba type of <class 'type'>\u001B[0m\n",
      "\u001B[1m\n",
      "File \"..\\..\\..\\..\\..\\AppData\\Local\\Temp\\ipykernel_33476\\1169055119.py\", line 3:\u001B[0m\n",
      "\u001B[1m<source missing, REPL/exec in use?>\u001B[0m\n",
      "\u001B[0m\u001B[0m\n",
      "  @jit\n",
      "C:\\Users\\piter\\anaconda3\\lib\\site-packages\\numba\\core\\object_mode_passes.py:151: NumbaWarning: \u001B[1mFunction \"J\" was compiled in object mode without forceobj=True.\n",
      "\u001B[1m\n",
      "File \"..\\..\\..\\..\\..\\AppData\\Local\\Temp\\ipykernel_33476\\1169055119.py\", line 1:\u001B[0m\n",
      "\u001B[1m<source missing, REPL/exec in use?>\u001B[0m\n",
      "\u001B[0m\n",
      "  warnings.warn(errors.NumbaWarning(warn_msg,\n",
      "C:\\Users\\piter\\anaconda3\\lib\\site-packages\\numba\\core\\object_mode_passes.py:161: NumbaDeprecationWarning: \u001B[1m\n",
      "Fall-back from the nopython compilation path to the object mode compilation path has been detected, this is deprecated behaviour.\n",
      "\n",
      "For more information visit https://numba.pydata.org/numba-doc/latest/reference/deprecation.html#deprecation-of-object-mode-fall-back-behaviour-when-using-jit\n",
      "\u001B[1m\n",
      "File \"..\\..\\..\\..\\..\\AppData\\Local\\Temp\\ipykernel_33476\\1169055119.py\", line 1:\u001B[0m\n",
      "\u001B[1m<source missing, REPL/exec in use?>\u001B[0m\n",
      "\u001B[0m\n",
      "  warnings.warn(errors.NumbaDeprecationWarning(msg,\n"
     ]
    },
    {
     "data": {
      "text/plain": "-0.5244005127080407"
     },
     "execution_count": 31,
     "metadata": {},
     "output_type": "execute_result"
    }
   ],
   "source": [
    "J(0.3)"
   ],
   "metadata": {
    "collapsed": false,
    "pycharm": {
     "name": "#%%\n"
    }
   }
  },
  {
   "cell_type": "code",
   "execution_count": 32,
   "outputs": [],
   "source": [
    "@jit\n",
    "def c(X):\n",
    "    n = len(X)\n",
    "    R = np.array(sorted(X))\n",
    "    return 1 / np.sum([(J((list(X).index(R[i]) + 1) / (n + 1)))**2 for i in range(n)])"
   ],
   "metadata": {
    "collapsed": false,
    "pycharm": {
     "name": "#%%\n"
    }
   }
  },
  {
   "cell_type": "code",
   "execution_count": 33,
   "outputs": [
    {
     "name": "stderr",
     "output_type": "stream",
     "text": [
      "C:\\Users\\piter\\AppData\\Local\\Temp/ipykernel_33476/2760330457.py:1: NumbaWarning: \u001B[1m\n",
      "Compilation is falling back to object mode WITH looplifting enabled because Function \"c\" failed type inference due to: \u001B[1m\u001B[1m\u001B[1mInvalid use of type(CPUDispatcher(<function J at 0x000001FD0AF6BE50>)) with parameters (float64)\n",
      "\u001B[0m\n",
      "\u001B[0m\u001B[1mDuring: resolving callee type: type(CPUDispatcher(<function J at 0x000001FD0AF6BE50>))\u001B[0m\n",
      "\u001B[0m\u001B[1mDuring: typing of call at C:\\Users\\piter\\AppData\\Local\\Temp/ipykernel_33476/2760330457.py (5)\n",
      "\u001B[0m\n",
      "\u001B[1m\n",
      "File \"..\\..\\..\\..\\..\\AppData\\Local\\Temp\\ipykernel_33476\\2760330457.py\", line 5:\u001B[0m\n",
      "\u001B[1m<source missing, REPL/exec in use?>\u001B[0m\n",
      "\u001B[0m\n",
      "  @jit\n",
      "C:\\Users\\piter\\anaconda3\\lib\\site-packages\\numba\\core\\object_mode_passes.py:151: NumbaWarning: \u001B[1mFunction \"c\" was compiled in object mode without forceobj=True.\n",
      "\u001B[1m\n",
      "File \"..\\..\\..\\..\\..\\AppData\\Local\\Temp\\ipykernel_33476\\2760330457.py\", line 1:\u001B[0m\n",
      "\u001B[1m<source missing, REPL/exec in use?>\u001B[0m\n",
      "\u001B[0m\n",
      "  warnings.warn(errors.NumbaWarning(warn_msg,\n",
      "C:\\Users\\piter\\anaconda3\\lib\\site-packages\\numba\\core\\object_mode_passes.py:161: NumbaDeprecationWarning: \u001B[1m\n",
      "Fall-back from the nopython compilation path to the object mode compilation path has been detected, this is deprecated behaviour.\n",
      "\n",
      "For more information visit https://numba.pydata.org/numba-doc/latest/reference/deprecation.html#deprecation-of-object-mode-fall-back-behaviour-when-using-jit\n",
      "\u001B[1m\n",
      "File \"..\\..\\..\\..\\..\\AppData\\Local\\Temp\\ipykernel_33476\\2760330457.py\", line 1:\u001B[0m\n",
      "\u001B[1m<source missing, REPL/exec in use?>\u001B[0m\n",
      "\u001B[0m\n",
      "  warnings.warn(errors.NumbaDeprecationWarning(msg,\n"
     ]
    },
    {
     "data": {
      "text/plain": "0.010837050605284464"
     },
     "execution_count": 33,
     "metadata": {},
     "output_type": "execute_result"
    }
   ],
   "source": [
    "c(np.array([rnd.random() for i in range(100)]))"
   ],
   "metadata": {
    "collapsed": false,
    "pycharm": {
     "name": "#%%\n"
    }
   }
  },
  {
   "cell_type": "code",
   "execution_count": 48,
   "outputs": [],
   "source": [
    "@jit\n",
    "def autocorr3(X, lag):\n",
    "    acf = []\n",
    "    n = len(X)\n",
    "    R = np.array(sorted(X))\n",
    "    for h in range(lag[0], lag[1] + 1):\n",
    "        suma = 0\n",
    "        for i in range(n-h):\n",
    "            a = list(X).index(R[i])\n",
    "            b = list(X).index(R[i + h])\n",
    "            suma += J((np.where(R[i] == X)[0] + 1)/ (n+1)) * J((np.where(R[i+h] == X)[0] + 1)/ (n+1))\n",
    "        acf.append(c(X) * suma)\n",
    "    return acf"
   ],
   "metadata": {
    "collapsed": false,
    "pycharm": {
     "name": "#%%\n"
    }
   }
  },
  {
   "cell_type": "code",
   "execution_count": 49,
   "outputs": [
    {
     "name": "stderr",
     "output_type": "stream",
     "text": [
      "C:\\Users\\piter\\AppData\\Local\\Temp/ipykernel_33476/1458876154.py:1: NumbaWarning: \u001B[1m\n",
      "Compilation is falling back to object mode WITH looplifting enabled because Function \"autocorr3\" failed type inference due to: \u001B[1m\u001B[1m\u001B[1mInvalid use of type(CPUDispatcher(<function J at 0x000001FD0AF6BE50>)) with parameters (array(float64, 1d, C))\n",
      "\u001B[0m\n",
      "\u001B[0m\u001B[1mDuring: resolving callee type: type(CPUDispatcher(<function J at 0x000001FD0AF6BE50>))\u001B[0m\n",
      "\u001B[0m\u001B[1mDuring: typing of call at C:\\Users\\piter\\AppData\\Local\\Temp/ipykernel_33476/1458876154.py (11)\n",
      "\u001B[0m\n",
      "\u001B[1m\n",
      "File \"..\\..\\..\\..\\..\\AppData\\Local\\Temp\\ipykernel_33476\\1458876154.py\", line 11:\u001B[0m\n",
      "\u001B[1m<source missing, REPL/exec in use?>\u001B[0m\n",
      "\u001B[0m\n",
      "  @jit\n",
      "C:\\Users\\piter\\AppData\\Local\\Temp/ipykernel_33476/1458876154.py:1: NumbaWarning: \u001B[1m\n",
      "Compilation is falling back to object mode WITHOUT looplifting enabled because Function \"autocorr3\" failed type inference due to: \u001B[1m\u001B[1mCannot determine Numba type of <class 'numba.core.dispatcher.LiftedLoop'>\u001B[0m\n",
      "\u001B[1m\n",
      "File \"..\\..\\..\\..\\..\\AppData\\Local\\Temp\\ipykernel_33476\\1458876154.py\", line 6:\u001B[0m\n",
      "\u001B[1m<source missing, REPL/exec in use?>\u001B[0m\n",
      "\u001B[0m\u001B[0m\n",
      "  @jit\n",
      "C:\\Users\\piter\\anaconda3\\lib\\site-packages\\numba\\core\\object_mode_passes.py:151: NumbaWarning: \u001B[1mFunction \"autocorr3\" was compiled in object mode without forceobj=True, but has lifted loops.\n",
      "\u001B[1m\n",
      "File \"..\\..\\..\\..\\..\\AppData\\Local\\Temp\\ipykernel_33476\\1458876154.py\", line 3:\u001B[0m\n",
      "\u001B[1m<source missing, REPL/exec in use?>\u001B[0m\n",
      "\u001B[0m\n",
      "  warnings.warn(errors.NumbaWarning(warn_msg,\n",
      "C:\\Users\\piter\\anaconda3\\lib\\site-packages\\numba\\core\\object_mode_passes.py:161: NumbaDeprecationWarning: \u001B[1m\n",
      "Fall-back from the nopython compilation path to the object mode compilation path has been detected, this is deprecated behaviour.\n",
      "\n",
      "For more information visit https://numba.pydata.org/numba-doc/latest/reference/deprecation.html#deprecation-of-object-mode-fall-back-behaviour-when-using-jit\n",
      "\u001B[1m\n",
      "File \"..\\..\\..\\..\\..\\AppData\\Local\\Temp\\ipykernel_33476\\1458876154.py\", line 3:\u001B[0m\n",
      "\u001B[1m<source missing, REPL/exec in use?>\u001B[0m\n",
      "\u001B[0m\n",
      "  warnings.warn(errors.NumbaDeprecationWarning(msg,\n",
      "C:\\Users\\piter\\AppData\\Local\\Temp/ipykernel_33476/1458876154.py:1: NumbaWarning: \u001B[1m\n",
      "Compilation is falling back to object mode WITHOUT looplifting enabled because Function \"autocorr3\" failed type inference due to: \u001B[1m\u001B[1mnon-precise type pyobject\u001B[0m\n",
      "\u001B[0m\u001B[1mDuring: typing of argument at C:\\Users\\piter\\AppData\\Local\\Temp/ipykernel_33476/1458876154.py (6)\u001B[0m\n",
      "\u001B[1m\n",
      "File \"..\\..\\..\\..\\..\\AppData\\Local\\Temp\\ipykernel_33476\\1458876154.py\", line 6:\u001B[0m\n",
      "\u001B[1m<source missing, REPL/exec in use?>\u001B[0m\n",
      "\u001B[0m\n",
      "  @jit\n",
      "C:\\Users\\piter\\anaconda3\\lib\\site-packages\\numba\\core\\object_mode_passes.py:151: NumbaWarning: \u001B[1mFunction \"autocorr3\" was compiled in object mode without forceobj=True.\n",
      "\u001B[1m\n",
      "File \"..\\..\\..\\..\\..\\AppData\\Local\\Temp\\ipykernel_33476\\1458876154.py\", line 6:\u001B[0m\n",
      "\u001B[1m<source missing, REPL/exec in use?>\u001B[0m\n",
      "\u001B[0m\n",
      "  warnings.warn(errors.NumbaWarning(warn_msg,\n",
      "C:\\Users\\piter\\anaconda3\\lib\\site-packages\\numba\\core\\object_mode_passes.py:161: NumbaDeprecationWarning: \u001B[1m\n",
      "Fall-back from the nopython compilation path to the object mode compilation path has been detected, this is deprecated behaviour.\n",
      "\n",
      "For more information visit https://numba.pydata.org/numba-doc/latest/reference/deprecation.html#deprecation-of-object-mode-fall-back-behaviour-when-using-jit\n",
      "\u001B[1m\n",
      "File \"..\\..\\..\\..\\..\\AppData\\Local\\Temp\\ipykernel_33476\\1458876154.py\", line 6:\u001B[0m\n",
      "\u001B[1m<source missing, REPL/exec in use?>\u001B[0m\n",
      "\u001B[0m\n",
      "  warnings.warn(errors.NumbaDeprecationWarning(msg,\n"
     ]
    },
    {
     "data": {
      "text/plain": "[1.0000000000000002,\n 0.005913328131875116,\n 0.06324550082255595,\n 0.007274151866831367,\n -0.12123603380012053,\n -0.15280749301462884]"
     },
     "execution_count": 49,
     "metadata": {},
     "output_type": "execute_result"
    }
   ],
   "source": [
    "autocorr3(np.array([rnd.random() for i in range(100)]), np.array([0,5]))"
   ],
   "metadata": {
    "collapsed": false,
    "pycharm": {
     "name": "#%%\n"
    }
   }
  },
  {
   "cell_type": "code",
   "execution_count": 65,
   "outputs": [],
   "source": [
    "@jit(nopython=True)\n",
    "def autocorr5(X, lag):\n",
    "    n = len(X)\n",
    "    return [1/((n - h)*(n - h - 1)) * np.sum(np.array([np.sign((X[i] - X[j]) * (X[i + h] - X[j + h]))\n",
    "                for i in range(n - h) for j in range(i)])) for h in range(lag[0], lag[1] + 1)]"
   ],
   "metadata": {
    "collapsed": false,
    "pycharm": {
     "name": "#%%\n"
    }
   }
  },
  {
   "cell_type": "code",
   "execution_count": 66,
   "outputs": [
    {
     "data": {
      "text/plain": "[0.5,\n -0.03906411049268192,\n 0.046812539448769196,\n -0.007302405498281787,\n -0.01118421052631579,\n -0.07625979843225085]"
     },
     "execution_count": 66,
     "metadata": {},
     "output_type": "execute_result"
    }
   ],
   "source": [
    "autocorr5(np.array([rnd.random() for i in range(100)]), np.array([0,5]))"
   ],
   "metadata": {
    "collapsed": false,
    "pycharm": {
     "name": "#%%\n"
    }
   }
  },
  {
   "cell_type": "code",
   "execution_count": 75,
   "outputs": [],
   "source": [
    "@jit(nopython=True)\n",
    "def autocorr6(X, lag):\n",
    "    n = len(X)\n",
    "    mediana = np.median(X)\n",
    "    acf = [1/(n - h) * np.sum(np.sign((X[:-h] - mediana) *\n",
    "    (X[h:] - mediana))) for h in range(lag[0] + 1, lag[1] + 1)]\n",
    "    return [1, *acf]"
   ],
   "metadata": {
    "collapsed": false,
    "pycharm": {
     "name": "#%%\n"
    }
   }
  },
  {
   "cell_type": "code",
   "execution_count": 76,
   "outputs": [
    {
     "data": {
      "text/plain": "[1.0,\n -0.07070707070707072,\n -0.2040816326530612,\n -0.09278350515463918,\n -0.0625,\n 0.11578947368421053]"
     },
     "execution_count": 76,
     "metadata": {},
     "output_type": "execute_result"
    }
   ],
   "source": [
    "autocorr6(np.array([rnd.random() for i in range(100)]), np.array([0,5]))"
   ],
   "metadata": {
    "collapsed": false,
    "pycharm": {
     "name": "#%%\n"
    }
   }
  },
  {
   "cell_type": "code",
   "execution_count": 101,
   "outputs": [],
   "source": [
    "def zmatrix(X, k):\n",
    "    return np.matrix([[*[0 for i in range(j)], *[X[i] for i in range(k)], *[0 for i in range(k - j)]] for j in range(k+1)])"
   ],
   "metadata": {
    "collapsed": false,
    "pycharm": {
     "name": "#%%\n"
    }
   }
  },
  {
   "cell_type": "code",
   "execution_count": 103,
   "outputs": [],
   "source": [
    "def gamma_k(X, k):\n",
    "    z_matr = zmatrix(X, k)\n",
    "    return (z_matr * z_matr.transpose())/len(X)"
   ],
   "metadata": {
    "collapsed": false,
    "pycharm": {
     "name": "#%%\n"
    }
   }
  },
  {
   "cell_type": "code",
   "execution_count": 104,
   "outputs": [],
   "source": [
    "def Xi(X, k, i, j):\n",
    "    gamm = gamma_k(X, k)\n",
    "    return gamm[i - 1, j - 1]/np.sqrt(gamm[i - 1, i - 1] * gamm[j - 1, j - 1])"
   ],
   "metadata": {
    "collapsed": false,
    "pycharm": {
     "name": "#%%\n"
    }
   }
  },
  {
   "cell_type": "code",
   "execution_count": 105,
   "outputs": [],
   "source": [
    "def autocorr7(X, lag):\n",
    "    k = lag[1]\n",
    "    return [1/(k - h + 1)*sum([Xi(X, k, i, i + h) for i in range(1, k - h + 2)]) for h in range(lag[0], lag[1] + 1)]"
   ],
   "metadata": {
    "collapsed": false,
    "pycharm": {
     "name": "#%%\n"
    }
   }
  },
  {
   "cell_type": "code",
   "execution_count": 106,
   "outputs": [],
   "source": [
    "@jit(nopython=True)\n",
    "def autocorr8(X, lag):\n",
    "    return [(np.var(X+X) - np.var(X - X))/(np.var(X+X) + np.var(X - X)) if h == 0 else\n",
    "            (np.var(X[h:]+X[:-h]) - np.var(X[h:] - X[:-h]))/(np.var(X[h:]+X[:-h]) + np.var(X[h:] - X[:-h]))\n",
    "            for h in range(lag[0], lag[1] + 1)]"
   ],
   "metadata": {
    "collapsed": false,
    "pycharm": {
     "name": "#%%\n"
    }
   }
  },
  {
   "cell_type": "code",
   "execution_count": 107,
   "outputs": [
    {
     "data": {
      "text/plain": "[1.0,\n -0.059842716495883935,\n -0.10899296499540402,\n 0.18428145582216268,\n 0.030702153939854142,\n 0.0402330277350975]"
     },
     "execution_count": 107,
     "metadata": {},
     "output_type": "execute_result"
    }
   ],
   "source": [
    "autocorr8(np.array([rnd.random() for i in range(100)]), np.array([0,5]))"
   ],
   "metadata": {
    "collapsed": false,
    "pycharm": {
     "name": "#%%\n"
    }
   }
  },
  {
   "cell_type": "code",
   "execution_count": null,
   "outputs": [],
   "source": [],
   "metadata": {
    "collapsed": false,
    "pycharm": {
     "name": "#%%\n"
    }
   }
  }
 ],
 "metadata": {
  "kernelspec": {
   "name": "pycharm-7d502964",
   "language": "python",
   "display_name": "PyCharm (semestr_6)"
  },
  "language_info": {
   "codemirror_mode": {
    "name": "ipython",
    "version": 2
   },
   "file_extension": ".py",
   "mimetype": "text/x-python",
   "name": "python",
   "nbconvert_exporter": "python",
   "pygments_lexer": "ipython2",
   "version": "2.7.6"
  }
 },
 "nbformat": 4,
 "nbformat_minor": 0
}